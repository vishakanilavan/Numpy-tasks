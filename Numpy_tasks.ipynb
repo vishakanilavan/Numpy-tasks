{
 "cells": [
  {
   "cell_type": "markdown",
   "metadata": {
    "id": "aen808Hx-_GS"
   },
   "source": [
    "# Numpy\n",
    "\n"
   ]
  },
  {
   "cell_type": "markdown",
   "metadata": {
    "id": "IjfVc_Lg-_Gk"
   },
   "source": [
    "#### 1. Import the numpy package under the name `np` (★☆☆) \n",
    "(**hint**: import … as …)"
   ]
  },
  {
   "cell_type": "code",
   "execution_count": 1,
   "metadata": {
    "id": "svgB98q3-_Gn"
   },
   "outputs": [],
   "source": [
    "import numpy as np"
   ]
  },
  {
   "cell_type": "markdown",
   "metadata": {
    "id": "qo6wwfDE-_Gq"
   },
   "source": [
    "#### 2. Print the numpy version and the configuration (★☆☆) \n",
    "(**hint**: np.\\_\\_version\\_\\_, np.show\\_config)"
   ]
  },
  {
   "cell_type": "code",
   "execution_count": 5,
   "metadata": {
    "id": "bFk7ych7-_Gu"
   },
   "outputs": [
    {
     "name": "stdout",
     "output_type": "stream",
     "text": [
      "1.21.5\n",
      "blas_mkl_info:\n",
      "    libraries = ['mkl_rt']\n",
      "    library_dirs = ['C:/Users/Admin PC/anaconda3\\\\Library\\\\lib']\n",
      "    define_macros = [('SCIPY_MKL_H', None), ('HAVE_CBLAS', None)]\n",
      "    include_dirs = ['C:/Users/Admin PC/anaconda3\\\\Library\\\\include']\n",
      "blas_opt_info:\n",
      "    libraries = ['mkl_rt']\n",
      "    library_dirs = ['C:/Users/Admin PC/anaconda3\\\\Library\\\\lib']\n",
      "    define_macros = [('SCIPY_MKL_H', None), ('HAVE_CBLAS', None)]\n",
      "    include_dirs = ['C:/Users/Admin PC/anaconda3\\\\Library\\\\include']\n",
      "lapack_mkl_info:\n",
      "    libraries = ['mkl_rt']\n",
      "    library_dirs = ['C:/Users/Admin PC/anaconda3\\\\Library\\\\lib']\n",
      "    define_macros = [('SCIPY_MKL_H', None), ('HAVE_CBLAS', None)]\n",
      "    include_dirs = ['C:/Users/Admin PC/anaconda3\\\\Library\\\\include']\n",
      "lapack_opt_info:\n",
      "    libraries = ['mkl_rt']\n",
      "    library_dirs = ['C:/Users/Admin PC/anaconda3\\\\Library\\\\lib']\n",
      "    define_macros = [('SCIPY_MKL_H', None), ('HAVE_CBLAS', None)]\n",
      "    include_dirs = ['C:/Users/Admin PC/anaconda3\\\\Library\\\\include']\n",
      "Supported SIMD extensions in this NumPy install:\n",
      "    baseline = SSE,SSE2,SSE3\n",
      "    found = SSSE3,SSE41,POPCNT,SSE42,AVX,F16C,FMA3,AVX2\n",
      "    not found = AVX512F,AVX512CD,AVX512_SKX,AVX512_CLX,AVX512_CNL\n",
      "None\n"
     ]
    }
   ],
   "source": [
    "import numpy as np\n",
    "print(np.__version__)\n",
    "print(np.show_config())"
   ]
  },
  {
   "cell_type": "markdown",
   "metadata": {
    "id": "CsrfPcsA-_Gv"
   },
   "source": [
    "#### 3. Create a null vector of size 10 (★☆☆) \n",
    "(**hint**: np.zeros)"
   ]
  },
  {
   "cell_type": "code",
   "execution_count": 6,
   "metadata": {
    "id": "WZHvyOzI-_Gx"
   },
   "outputs": [
    {
     "name": "stdout",
     "output_type": "stream",
     "text": [
      "[0. 0. 0. 0. 0. 0. 0. 0. 0. 0.]\n"
     ]
    }
   ],
   "source": [
    "print(np.zeros(10))"
   ]
  },
  {
   "cell_type": "markdown",
   "metadata": {
    "id": "kaGi-S7P-_G0"
   },
   "source": [
    "#### 4.  How to find the memory size of any array (★☆☆) \n",
    "(**hint**: size, itemsize)"
   ]
  },
  {
   "cell_type": "code",
   "execution_count": 13,
   "metadata": {
    "id": "T1F_Dk1K-_G3"
   },
   "outputs": [
    {
     "name": "stdout",
     "output_type": "stream",
     "text": [
      "No. of elements: 3\n",
      "Memory size of one array element in bytes 4\n",
      "Total Memory size of an array: 12\n"
     ]
    }
   ],
   "source": [
    "a=np.array([100,200,300])\n",
    "print(\"No. of elements:\",a.size)\n",
    "print(\"Memory size of one array element in bytes\",a.itemsize)\n",
    "print(\"Total Memory size of an array:\",(a.size)*(a.itemsize)) \n"
   ]
  },
  {
   "cell_type": "markdown",
   "metadata": {
    "id": "LViNYiGS-_G5"
   },
   "source": [
    "#### 5.  How to get the documentation of the numpy add function from the command line? (★☆☆) \n",
    "(**hint**: np.info)"
   ]
  },
  {
   "cell_type": "code",
   "execution_count": 40,
   "metadata": {
    "id": "q2uuA6fI-_G7"
   },
   "outputs": [
    {
     "name": "stdout",
     "output_type": "stream",
     "text": [
      "add(x1, x2, /, out=None, *, where=True, casting='same_kind', order='K', dtype=None, subok=True[, signature, extobj])\n",
      "\n",
      "Add arguments element-wise.\n",
      "\n",
      "Parameters\n",
      "----------\n",
      "x1, x2 : array_like\n",
      "    The arrays to be added.\n",
      "    If ``x1.shape != x2.shape``, they must be broadcastable to a common\n",
      "    shape (which becomes the shape of the output).\n",
      "out : ndarray, None, or tuple of ndarray and None, optional\n",
      "    A location into which the result is stored. If provided, it must have\n",
      "    a shape that the inputs broadcast to. If not provided or None,\n",
      "    a freshly-allocated array is returned. A tuple (possible only as a\n",
      "    keyword argument) must have length equal to the number of outputs.\n",
      "where : array_like, optional\n",
      "    This condition is broadcast over the input. At locations where the\n",
      "    condition is True, the `out` array will be set to the ufunc result.\n",
      "    Elsewhere, the `out` array will retain its original value.\n",
      "    Note that if an uninitialized `out` array is created via the default\n",
      "    ``out=None``, locations within it where the condition is False will\n",
      "    remain uninitialized.\n",
      "**kwargs\n",
      "    For other keyword-only arguments, see the\n",
      "    :ref:`ufunc docs <ufuncs.kwargs>`.\n",
      "\n",
      "Returns\n",
      "-------\n",
      "add : ndarray or scalar\n",
      "    The sum of `x1` and `x2`, element-wise.\n",
      "    This is a scalar if both `x1` and `x2` are scalars.\n",
      "\n",
      "Notes\n",
      "-----\n",
      "Equivalent to `x1` + `x2` in terms of array broadcasting.\n",
      "\n",
      "Examples\n",
      "--------\n",
      ">>> np.add(1.0, 4.0)\n",
      "5.0\n",
      ">>> x1 = np.arange(9.0).reshape((3, 3))\n",
      ">>> x2 = np.arange(3.0)\n",
      ">>> np.add(x1, x2)\n",
      "array([[  0.,   2.,   4.],\n",
      "       [  3.,   5.,   7.],\n",
      "       [  6.,   8.,  10.]])\n",
      "\n",
      "The ``+`` operator can be used as a shorthand for ``np.add`` on ndarrays.\n",
      "\n",
      ">>> x1 = np.arange(9.0).reshape((3, 3))\n",
      ">>> x2 = np.arange(3.0)\n",
      ">>> x1 + x2\n",
      "array([[ 0.,  2.,  4.],\n",
      "       [ 3.,  5.,  7.],\n",
      "       [ 6.,  8., 10.]])\n"
     ]
    }
   ],
   "source": [
    "\n",
    "np.info(np.add)"
   ]
  },
  {
   "cell_type": "markdown",
   "metadata": {
    "id": "yUjhSjl_-_G9"
   },
   "source": [
    "#### 6.  Create a null vector of size 10 but the fifth value which is 1 (★☆☆) \n",
    "(**hint**: array\\[4\\])"
   ]
  },
  {
   "cell_type": "code",
   "execution_count": 19,
   "metadata": {
    "id": "UlOu_itJ-_HB"
   },
   "outputs": [
    {
     "name": "stdout",
     "output_type": "stream",
     "text": [
      "[0. 0. 0. 0. 1. 0. 0. 0. 0. 0.] <class 'numpy.ndarray'>\n"
     ]
    }
   ],
   "source": [
    "null=np.zeros(10)\n",
    "null[4]=1\n",
    "print(null,type(null))"
   ]
  },
  {
   "cell_type": "markdown",
   "metadata": {
    "id": "pHtTdxuj-_HD"
   },
   "source": [
    "#### 7.  Create a vector with values ranging from 10 to 49 (★☆☆) \n",
    "(**hint**: np.arange)"
   ]
  },
  {
   "cell_type": "code",
   "execution_count": 16,
   "metadata": {
    "id": "1bMY1Cnt-_HF"
   },
   "outputs": [
    {
     "name": "stdout",
     "output_type": "stream",
     "text": [
      "[10 11 12 13 14 15 16 17 18 19 20 21 22 23 24 25 26 27 28 29 30 31 32 33\n",
      " 34 35 36 37 38 39 40 41 42 43 44 45 46 47 48]\n"
     ]
    },
    {
     "data": {
      "text/plain": [
       "numpy.ndarray"
      ]
     },
     "execution_count": 16,
     "metadata": {},
     "output_type": "execute_result"
    }
   ],
   "source": [
    "a=np.arange(10,49)\n",
    "print(a)"
   ]
  },
  {
   "cell_type": "markdown",
   "metadata": {
    "id": "no6nqkHC-_HG"
   },
   "source": [
    "#### 8.  Reverse a vector (first element becomes last) (★☆☆) \n",
    "(**hint**: array\\[::-1\\])"
   ]
  },
  {
   "cell_type": "code",
   "execution_count": 30,
   "metadata": {
    "id": "70NPkSVT-_HI"
   },
   "outputs": [
    {
     "name": "stdout",
     "output_type": "stream",
     "text": [
      "[9 8 7 6 5 4 3 2 1]\n"
     ]
    }
   ],
   "source": [
    "a=np.arange(1,10)\n",
    "a=a[::-1]\n",
    "print(a)"
   ]
  },
  {
   "cell_type": "markdown",
   "metadata": {
    "id": "E1xSvi4w-_HJ"
   },
   "source": [
    "#### 9.  Create a 3x3 matrix with values ranging from 0 to 8 (★☆☆) \n",
    "(**hint**: reshape)"
   ]
  },
  {
   "cell_type": "code",
   "execution_count": 24,
   "metadata": {
    "id": "SSOS46Go-_HK"
   },
   "outputs": [
    {
     "name": "stdout",
     "output_type": "stream",
     "text": [
      "[[0 1 2]\n",
      " [3 4 5]\n",
      " [6 7 8]]\n"
     ]
    }
   ],
   "source": [
    "a=np.arange(0,9)\n",
    "a=np.reshape(a,(3,3))\n",
    "print(a)"
   ]
  },
  {
   "cell_type": "markdown",
   "metadata": {
    "id": "OSOIv6_r-_HL"
   },
   "source": [
    "#### 10. Find indices of non-zero elements from \\[1,2,0,0,4,0\\] (★☆☆) \n",
    "(**hint**: np.nonzero)"
   ]
  },
  {
   "cell_type": "code",
   "execution_count": 68,
   "metadata": {
    "id": "x5WRfLg_-_HO"
   },
   "outputs": [
    {
     "name": "stdout",
     "output_type": "stream",
     "text": [
      "(array([0, 1, 4], dtype=int64),)\n"
     ]
    }
   ],
   "source": [
    "a=np.array([1,2,0,0,4.0])\n",
    "print(np.nonzero(a))"
   ]
  },
  {
   "cell_type": "markdown",
   "metadata": {
    "id": "9dzIqmjB-_HQ"
   },
   "source": [
    "#### 11. Create a 3x3 identity matrix (★☆☆) \n",
    "(**hint**: np.eye)"
   ]
  },
  {
   "cell_type": "code",
   "execution_count": 109,
   "metadata": {
    "id": "_VwB1h2r-_HS"
   },
   "outputs": [
    {
     "data": {
      "text/plain": [
       "array([[1, 0, 0],\n",
       "       [0, 1, 0],\n",
       "       [0, 0, 1]])"
      ]
     },
     "execution_count": 109,
     "metadata": {},
     "output_type": "execute_result"
    }
   ],
   "source": [
    "a=np.eye(3,dtype=int) #using np.eye(No. of rows/coulumns)\n",
    "a"
   ]
  },
  {
   "cell_type": "code",
   "execution_count": 73,
   "metadata": {},
   "outputs": [
    {
     "data": {
      "text/plain": [
       "array([[1, 0, 0],\n",
       "       [0, 1, 0],\n",
       "       [0, 0, 1]])"
      ]
     },
     "execution_count": 73,
     "metadata": {},
     "output_type": "execute_result"
    }
   ],
   "source": [
    "a=np.identity(3,dtype=int) #using np.identity\n",
    "a"
   ]
  },
  {
   "cell_type": "markdown",
   "metadata": {
    "id": "QTpk_PSa-_HT"
   },
   "source": [
    "#### 12. Create a 3x3x3 array with random values (★☆☆) \n",
    "(**hint**: np.random.random)"
   ]
  },
  {
   "cell_type": "code",
   "execution_count": 77,
   "metadata": {
    "id": "s9VUqPD8-_HU"
   },
   "outputs": [
    {
     "data": {
      "text/plain": [
       "array([[[0.73888679, 0.06467254, 0.23142014],\n",
       "        [0.7370188 , 0.20911951, 0.17770373],\n",
       "        [0.75870421, 0.70951693, 0.84366672]],\n",
       "\n",
       "       [[0.99909478, 0.70777279, 0.04915727],\n",
       "        [0.67988705, 0.84045794, 0.98767883],\n",
       "        [0.17534706, 0.90256019, 0.52580449]],\n",
       "\n",
       "       [[0.18104145, 0.47677952, 0.33839748],\n",
       "        [0.83191489, 0.08672239, 0.21046901],\n",
       "        [0.58538586, 0.14594619, 0.26346602]]])"
      ]
     },
     "execution_count": 77,
     "metadata": {},
     "output_type": "execute_result"
    }
   ],
   "source": [
    "a=np.random.random((3,3,3))\n",
    "a"
   ]
  },
  {
   "cell_type": "markdown",
   "metadata": {
    "id": "iwbAEndJ-_HV"
   },
   "source": [
    "#### 13. Create a 10x10 array with random values and find the minimum and maximum values (★☆☆) \n",
    "\n",
    "(**hint**: min, max)"
   ]
  },
  {
   "cell_type": "code",
   "execution_count": 70,
   "metadata": {
    "id": "CvBY7ejl-_HV"
   },
   "outputs": [
    {
     "name": "stdout",
     "output_type": "stream",
     "text": [
      "[[0.67714708 0.59121853 0.45783064 0.62807516 0.0755368  0.36929693\n",
      "  0.53782591 0.26608538 0.38681669 0.89223927]\n",
      " [0.6073731  0.55886178 0.04138419 0.67857948 0.99442919 0.9654094\n",
      "  0.57373113 0.11834808 0.94507913 0.48129687]\n",
      " [0.4211056  0.80837662 0.16847209 0.36165855 0.20825436 0.94872519\n",
      "  0.73131262 0.66617205 0.54778974 0.76589951]\n",
      " [0.54720267 0.90176127 0.66277025 0.02113858 0.03443065 0.7270055\n",
      "  0.92739672 0.06299255 0.37421951 0.44775886]\n",
      " [0.41345998 0.77266871 0.14834672 0.08604331 0.35941878 0.10715804\n",
      "  0.00975805 0.92220349 0.48214124 0.10320672]\n",
      " [0.85726751 0.85666547 0.60035012 0.93626008 0.72834693 0.33934466\n",
      "  0.37211689 0.95180466 0.1807899  0.43491069]\n",
      " [0.11616684 0.95133612 0.73342902 0.88362155 0.64101884 0.03937914\n",
      "  0.65712852 0.84918428 0.52830961 0.4900103 ]\n",
      " [0.31646976 0.552506   0.28195562 0.78198876 0.04509582 0.28887957\n",
      "  0.61506333 0.35195372 0.61545047 0.03318893]\n",
      " [0.39588766 0.1806049  0.99322562 0.40310982 0.13639252 0.94009642\n",
      "  0.70980461 0.43002946 0.11714009 0.57008568]\n",
      " [0.0379215  0.39305095 0.08114525 0.96257973 0.44868926 0.40333457\n",
      "  0.96357765 0.13736115 0.53851026 0.42273025]]\n",
      "0.9944291926938023 0.00975805233123217\n"
     ]
    }
   ],
   "source": [
    "\n",
    "a=np.random.random((10,10)) #random.random((shape of 2D array))         It returns float values\n",
    "                             # random.random(high,low,size)--> general\n",
    "print(a)\n",
    "minimum=np.min(a)\n",
    "maximum=np.max(a)\n",
    "print(maximum,minimum)"
   ]
  },
  {
   "cell_type": "markdown",
   "metadata": {
    "id": "4zRkP2Ff-_HW"
   },
   "source": [
    "#### 14. Create a random vector of size 30 and find the mean value (★☆☆) \n",
    "(**hint**: mean)"
   ]
  },
  {
   "cell_type": "code",
   "execution_count": 98,
   "metadata": {
    "id": "g-fAe5PN-_HX"
   },
   "outputs": [
    {
     "name": "stdout",
     "output_type": "stream",
     "text": [
      "Random Vector Array: [26 60 38  7 16 49 63 73 66 53 31 35 86 97 23 63 44 89 26 71 65 84 51 64\n",
      " 89  9 91 45 85  7]\n",
      "Mean of random vector 53.53333333333333\n"
     ]
    }
   ],
   "source": [
    "a=np.random.randint(0,100,size=30) #Random integer values in range of (0,100) with size/count=30 samples\n",
    "print(\"Random Vector Array:\",a)\n",
    "print(\"Mean of random vector\",np.mean(a))"
   ]
  },
  {
   "cell_type": "markdown",
   "metadata": {
    "id": "X-HQEiGA-_HY"
   },
   "source": [
    "#### 15. Create a 2d array with 1 on the border and 0 inside (★☆☆) \n",
    "(**hint**: array\\[1:-1, 1:-1\\])"
   ]
  },
  {
   "cell_type": "code",
   "execution_count": 112,
   "metadata": {
    "id": "Zg9upUId-_HZ"
   },
   "outputs": [
    {
     "data": {
      "text/plain": [
       "array([[1, 1, 1, 1],\n",
       "       [1, 0, 0, 1],\n",
       "       [1, 0, 0, 1],\n",
       "       [1, 1, 1, 1]])"
      ]
     },
     "execution_count": 112,
     "metadata": {},
     "output_type": "execute_result"
    }
   ],
   "source": [
    "a=np.ones((4,4),dtype=int)\n",
    "a[1:-1,1:-1]=0 # for accessing the central part(central rows,central columns) \n",
    "a"
   ]
  },
  {
   "cell_type": "markdown",
   "metadata": {
    "id": "OdZ-oaTG-_HZ"
   },
   "source": [
    "#### 16. How to add a border (filled with 0's) around an existing array? (★☆☆) \n",
    "(**hint**: np.pad)"
   ]
  },
  {
   "cell_type": "code",
   "execution_count": 188,
   "metadata": {
    "id": "JbNYavFW-_Hb"
   },
   "outputs": [
    {
     "name": "stdout",
     "output_type": "stream",
     "text": [
      "Original array\n",
      "[[36 14 75]\n",
      " [56 85  5]\n",
      " [42 15 43]]\n",
      "Zero border added array:\n",
      "[[ 0  0  0  0  0]\n",
      " [ 0 36 14 75  0]\n",
      " [ 0 56 85  5  0]\n",
      " [ 0 42 15 43  0]\n",
      " [ 0  0  0  0  0]]\n"
     ]
    }
   ],
   "source": [
    "a=np.random.randint(0,100,size=(3,3))\n",
    "a1=np.pad(a,pad_width=1,mode=\"constant\",constant_values=0) # for adding 0's around the array like border\n",
    "print(\"Original array\")\n",
    "print(a)\n",
    "print(\"Zero border added array:\")\n",
    "print(a1)"
   ]
  },
  {
   "cell_type": "markdown",
   "metadata": {
    "id": "1d8fqPd4-_Hc"
   },
   "source": [
    "#### 17. What is the result of the following expression? (★☆☆) \n",
    "(**hint**: NaN = not a number, inf = infinity)"
   ]
  },
  {
   "cell_type": "markdown",
   "metadata": {
    "id": "36P_r52A-_Hf"
   },
   "source": [
    "```python\n",
    "0 * np.nan\n",
    "np.nan == np.nan\n",
    "np.inf > np.nan\n",
    "np.nan - np.nan\n",
    "0.3 == 3 * 0.1\n",
    "```"
   ]
  },
  {
   "cell_type": "code",
   "execution_count": 186,
   "metadata": {
    "id": "xYAOU2ql-_Hh"
   },
   "outputs": [
    {
     "name": "stdout",
     "output_type": "stream",
     "text": [
      "nan\n",
      "False\n",
      "False\n",
      "nan\n",
      "False\n"
     ]
    }
   ],
   "source": [
    "\n",
    "print(0 * np.nan)\n",
    "print(np.nan == np.nan)\n",
    "print(np.inf > np.nan)\n",
    "print(np.nan - np.nan)\n",
    "print(0.3 == 3 * 0.1)"
   ]
  },
  {
   "cell_type": "markdown",
   "metadata": {
    "id": "aMxjz8Fq-_Hi"
   },
   "source": [
    "#### 18. Create a 5x5 matrix with values 1,2,3,4 just below the diagonal (★☆☆) \n",
    "(**hint**: np.diag)"
   ]
  },
  {
   "cell_type": "code",
   "execution_count": 194,
   "metadata": {
    "id": "VTShXVKI-_Hj"
   },
   "outputs": [
    {
     "name": "stdout",
     "output_type": "stream",
     "text": [
      "[[0 0 0 0 0]\n",
      " [1 0 0 0 0]\n",
      " [0 2 0 0 0]\n",
      " [0 0 3 0 0]\n",
      " [0 0 0 4 0]]\n"
     ]
    }
   ],
   "source": [
    "\n",
    "a=np.diag((1,2,3,4))\n",
    "a=np.pad(a,1) #padding the diagonal matrix with 0\n",
    "a=a[0:-1,1:] # Removing the 1st column and last row of padded array to get result\n",
    "print(a)"
   ]
  },
  {
   "cell_type": "code",
   "execution_count": 192,
   "metadata": {},
   "outputs": [
    {
     "data": {
      "text/plain": [
       "array([[0, 0, 0, 0, 0],\n",
       "       [1, 0, 0, 0, 0],\n",
       "       [0, 2, 0, 0, 0],\n",
       "       [0, 0, 3, 0, 0],\n",
       "       [0, 0, 0, 4, 0]])"
      ]
     },
     "execution_count": 192,
     "metadata": {},
     "output_type": "execute_result"
    }
   ],
   "source": [
    "\n",
    "a=np.diag([1,2,3,4],k=-1) # Here k refers to above/below main diagonal \n",
    "a"
   ]
  },
  {
   "cell_type": "markdown",
   "metadata": {
    "id": "8BilC6EK-_Hk"
   },
   "source": [
    "#### 19. Create a 8x8 matrix and fill it with a checkerboard pattern (★☆☆) \n",
    "(**hint**: array\\[::2\\])"
   ]
  },
  {
   "cell_type": "code",
   "execution_count": 185,
   "metadata": {
    "id": "MSdSHOkM-_Hl"
   },
   "outputs": [
    {
     "data": {
      "text/plain": [
       "array([[1, 0, 1, 0, 1, 0, 1, 0],\n",
       "       [0, 1, 0, 1, 0, 1, 0, 1],\n",
       "       [1, 0, 1, 0, 1, 0, 1, 0],\n",
       "       [0, 1, 0, 1, 0, 1, 0, 1],\n",
       "       [1, 0, 1, 0, 1, 0, 1, 0],\n",
       "       [0, 1, 0, 1, 0, 1, 0, 1],\n",
       "       [1, 0, 1, 0, 1, 0, 1, 0],\n",
       "       [0, 1, 0, 1, 0, 1, 0, 1]])"
      ]
     },
     "execution_count": 185,
     "metadata": {},
     "output_type": "execute_result"
    }
   ],
   "source": [
    "a=np.zeros((8,8),dtype=int)\n",
    "a[::2,::2]=1\n",
    "a[1::2,1::2]=1 # For converting into checkboard pattern\n",
    "a\n",
    "\n"
   ]
  },
  {
   "cell_type": "markdown",
   "metadata": {
    "id": "ZOUNe5e4-_Hl"
   },
   "source": [
    "#### 20. Consider a (6,7,8) shape array, what is the index (x,y,z) of the 100th element? \n",
    "(**hint**: np.unravel_index)"
   ]
  },
  {
   "cell_type": "code",
   "execution_count": 213,
   "metadata": {
    "id": "hhP4ioFp-_Hm"
   },
   "outputs": [
    {
     "name": "stdout",
     "output_type": "stream",
     "text": [
      "(1, 5, 4)\n"
     ]
    }
   ],
   "source": [
    "\n",
    "print(np.unravel_index(100,(6,7,8))) # It unravels the 3d index of flattend 100 th element of the array\n",
    "#100-->flattened index to unravel;(6,7,8)--> shape of the array"
   ]
  },
  {
   "cell_type": "markdown",
   "metadata": {
    "id": "277xenOY-_Hm"
   },
   "source": [
    "#### 21. Create a checkerboard 8x8 matrix using the tile function (★☆☆) \n",
    "(**hint**: np.tile)"
   ]
  },
  {
   "cell_type": "code",
   "execution_count": 226,
   "metadata": {
    "id": "VReRuGtq-_Hn"
   },
   "outputs": [
    {
     "name": "stdout",
     "output_type": "stream",
     "text": [
      "Array\n",
      "[[1 0]\n",
      " [0 1]]\n",
      "Array after tile\n",
      "[[1 0 1 0 1 0 1 0]\n",
      " [0 1 0 1 0 1 0 1]\n",
      " [1 0 1 0 1 0 1 0]\n",
      " [0 1 0 1 0 1 0 1]\n",
      " [1 0 1 0 1 0 1 0]\n",
      " [0 1 0 1 0 1 0 1]\n",
      " [1 0 1 0 1 0 1 0]\n",
      " [0 1 0 1 0 1 0 1]]\n"
     ]
    }
   ],
   "source": [
    "a=np.array([[1,0],[0,1]])\n",
    "print(\"Array\")\n",
    "print(a)\n",
    "print(\"Array after tile\")\n",
    "a=np.tile(a,(4,4))\n",
    "print(a)"
   ]
  },
  {
   "cell_type": "markdown",
   "metadata": {
    "id": "qMFuIk_q-_Hn"
   },
   "source": [
    "#### 22. Normalize a 5x5 random matrix (★☆☆) \n",
    "(**hint**: (x - min) / (max - min))"
   ]
  },
  {
   "cell_type": "code",
   "execution_count": 234,
   "metadata": {
    "id": "z3zLQocl-_Hn"
   },
   "outputs": [
    {
     "name": "stdout",
     "output_type": "stream",
     "text": [
      "[[0.         0.14583333 0.79166667 0.4375     0.1875    ]\n",
      " [0.22916667 0.6875     0.04166667 0.35416667 0.22916667]\n",
      " [0.41666667 0.08333333 0.5        1.         0.8125    ]\n",
      " [0.02083333 0.83333333 0.3125     0.125      0.625     ]\n",
      " [0.1875     0.8125     0.6875     0.91666667 0.97916667]]\n"
     ]
    }
   ],
   "source": [
    "a=np.random.randint(0,50,(5,5))\n",
    "a1=(a-a.min())/(a.max()-a.min())\n",
    "print(a1)"
   ]
  },
  {
   "cell_type": "markdown",
   "metadata": {
    "id": "IKN9FOa5-_Ho"
   },
   "source": [
    "#### 23. Create a custom dtype that describes a color as four unsigned bytes (RGBA) (★☆☆) \n",
    "(**hint**: np.dtype)"
   ]
  },
  {
   "cell_type": "code",
   "execution_count": 5,
   "metadata": {
    "id": "uAZFfFSV-_Ho"
   },
   "outputs": [
    {
     "name": "stderr",
     "output_type": "stream",
     "text": [
      "C:\\Users\\Admin PC\\AppData\\Local\\Temp\\ipykernel_14952\\3607463953.py:2: FutureWarning: Passing (type, 1) or '1type' as a synonym of type is deprecated; in a future version of numpy, it will be understood as (type, (1,)) / '(1,)type'.\n",
      "  color=np.dtype([ (\"r\",np.ubyte,1),\n"
     ]
    }
   ],
   "source": [
    "import numpy as np \n",
    "color=np.dtype([ (\"r\",np.ubyte,1),\n",
    "                 (\"g\",np.ubyte,1),\n",
    "                 (\"b\",np.ubyte,1),\n",
    "                 (\"a\",np.ubyte,1)])"
   ]
  },
  {
   "cell_type": "markdown",
   "metadata": {
    "id": "YpeeTlZE-_Hp"
   },
   "source": [
    "#### 24. Multiply a 5x3 matrix by a 3x2 matrix (real matrix product) (★☆☆) \n",
    "(**hint**: np.dot | @)"
   ]
  },
  {
   "cell_type": "code",
   "execution_count": 3,
   "metadata": {
    "id": "bt_MHQ2T-_Hp"
   },
   "outputs": [
    {
     "name": "stdout",
     "output_type": "stream",
     "text": [
      "[[ 10  13]\n",
      " [ 28  40]\n",
      " [ 46  67]\n",
      " [ 64  94]\n",
      " [ 82 121]]\n",
      "[[ 10  13]\n",
      " [ 28  40]\n",
      " [ 46  67]\n",
      " [ 64  94]\n",
      " [ 82 121]]\n"
     ]
    }
   ],
   "source": [
    "import numpy as np\n",
    "a=np.dot(np.arange(15).reshape((5,3)),np.arange(6).reshape(3,2))\n",
    "b=np.arange(15).reshape((5,3))@np.arange(6).reshape((3,2)) # Another method for product\n",
    "print(a)\n",
    "print(b)"
   ]
  },
  {
   "cell_type": "markdown",
   "metadata": {
    "id": "gmFgIxhA-_Hp"
   },
   "source": [
    "#### 25. Given a 1D array, negate all elements which are between 3 and 8, in place. (★☆☆) \n",
    "(**hint**: >, <=)"
   ]
  },
  {
   "cell_type": "code",
   "execution_count": 39,
   "metadata": {},
   "outputs": [
    {
     "name": "stdout",
     "output_type": "stream",
     "text": [
      "[ 0  1  2  3 -4 -5 -6 -7 -8  9]\n"
     ]
    }
   ],
   "source": [
    "x = np.arange(10)\n",
    "x[(3 < x) & (x <= 8)] *=-1\n",
    "print(x)"
   ]
  },
  {
   "cell_type": "markdown",
   "metadata": {
    "id": "O8G02Ogx-_Hq"
   },
   "source": [
    "#### 26. What is the output of the following script? (★☆☆) \n",
    "(**hint**: np.sum)"
   ]
  },
  {
   "cell_type": "markdown",
   "metadata": {
    "id": "fbbmGnIO-_Hr"
   },
   "source": [
    "```python\n",
    "# Author: Jake VanderPlas\n",
    "\n",
    "print(sum(range(5),-1))\n",
    "from numpy import *\n",
    "print(sum(range(5),-1))\n",
    "```"
   ]
  },
  {
   "cell_type": "code",
   "execution_count": 4,
   "metadata": {
    "id": "qLIoUji3-_Hr"
   },
   "outputs": [
    {
     "name": "stdout",
     "output_type": "stream",
     "text": [
      "9\n",
      "10\n"
     ]
    }
   ],
   "source": [
    "\n",
    "print(sum(range(5),-1)) # Here it refers to minus 1 of the ans of range(5)\n",
    "import numpy as np \n",
    "print(np.sum(range(5),-1))# In numpy, -1 is referring to axis, (In 2D,axis=0 is along column;axis=1 along rows)"
   ]
  },
  {
   "cell_type": "markdown",
   "metadata": {
    "id": "On8gg6Vk-_Hr"
   },
   "source": [
    "#### 27. Consider an integer vector Z, which of these expressions are legal? (★☆☆)"
   ]
  },
  {
   "cell_type": "markdown",
   "metadata": {
    "id": "8fO1Iy_2-_Hs"
   },
   "source": [
    "```python\n",
    "Z**Z\n",
    "2 << Z >> 2\n",
    "Z <- Z\n",
    "1j*Z\n",
    "Z/1/1\n",
    "Z<Z>Z\n",
    "```"
   ]
  },
  {
   "cell_type": "code",
   "execution_count": 4,
   "metadata": {
    "id": "Gv-u_LC7-_Ht"
   },
   "outputs": [
    {
     "name": "stdout",
     "output_type": "stream",
     "text": [
      "[1] [1] [False] [0.+1.j] [1.] [False]\n"
     ]
    }
   ],
   "source": [
    "import numpy as np\n",
    "Z=np.array([1])\n",
    "print(Z**Z,\n",
    "2 << Z >> 2,\n",
    "Z <- Z,\n",
    "1j*Z,\n",
    "Z/1/1,\n",
    "Z<Z>Z)"
   ]
  },
  {
   "cell_type": "markdown",
   "metadata": {
    "id": "graq7Zor-_Ht"
   },
   "source": [
    "#### 28. What are the result of the following expressions?"
   ]
  },
  {
   "cell_type": "markdown",
   "metadata": {
    "id": "VijT_zF3-_Hu"
   },
   "source": [
    "```python\n",
    "np.array(0) / np.array(0)\n",
    "np.array(0) // np.array(0)\n",
    "np.array([np.nan]).astype(int).astype(float)\n",
    "```"
   ]
  },
  {
   "cell_type": "code",
   "execution_count": 3,
   "metadata": {
    "id": "NZEl6scN-_Hv"
   },
   "outputs": [
    {
     "name": "stdout",
     "output_type": "stream",
     "text": [
      "nan 0 [-2.14748365e+09]\n"
     ]
    },
    {
     "name": "stderr",
     "output_type": "stream",
     "text": [
      "C:\\Users\\Admin PC\\AppData\\Local\\Temp\\ipykernel_7328\\2861961488.py:1: RuntimeWarning: invalid value encountered in true_divide\n",
      "  print(np.array(0) / np.array(0),\n",
      "C:\\Users\\Admin PC\\AppData\\Local\\Temp\\ipykernel_7328\\2861961488.py:2: RuntimeWarning: divide by zero encountered in floor_divide\n",
      "  np.array(0) // np.array(0),\n"
     ]
    }
   ],
   "source": [
    "print(np.array(0) / np.array(0),\n",
    "np.array(0) // np.array(0),\n",
    "np.array([np.nan]).astype(int).astype(float))"
   ]
  },
  {
   "cell_type": "markdown",
   "metadata": {
    "id": "PuLLwCYn-_Hv"
   },
   "source": [
    "#### 29. How to round away from zero a float array ? (★☆☆) \n",
    "(**hint**: np.uniform, np.copysign, np.ceil, np.abs)"
   ]
  },
  {
   "cell_type": "code",
   "execution_count": 15,
   "metadata": {},
   "outputs": [
    {
     "name": "stdout",
     "output_type": "stream",
     "text": [
      "[ -9.84862223  20.58470928  13.25457538 -29.34899628  22.40316661\n",
      "   9.43794866  -8.50747194  25.92097134  -4.56285937 -20.78583031]\n",
      "[-10.  21.  14. -30.  23.  10.  -9.  26.  -5. -21.]\n"
     ]
    }
   ],
   "source": [
    "a=np.random.uniform(-30,+30,10)\n",
    "print(a)\n",
    "\n",
    "# absolute values of a\n",
    "b=np.abs(a) \n",
    "\n",
    "\n",
    "# ceil([arr]) returns the smallest integer of float value(i.e >= float value)\n",
    "c=np.ceil(b)  \n",
    "\n",
    "\n",
    "# copysign(x,y)returns the magnitude of x and sign of y\n",
    "d=np.copysign(c,a)\n",
    "print(d)\n",
    "\n",
    "\n",
    "\n"
   ]
  },
  {
   "cell_type": "code",
   "execution_count": 16,
   "metadata": {
    "id": "1hTKICWP-_Hw"
   },
   "outputs": [
    {
     "name": "stdout",
     "output_type": "stream",
     "text": [
      "[ 20.92496151   2.68945301  29.43884823  25.07662736   2.65347933\n",
      "  -1.94734274  -5.64736996 -27.90881581 -14.28733087   9.24731906]\n",
      "[ 21.   3.  30.  26.   3.  -2.  -6. -28. -15.  10.]\n"
     ]
    }
   ],
   "source": [
    "a = np.random.uniform(-30,+30,10) #uniform(-limit,+limit,no. of samples)\n",
    "b = np.copysign(np.ceil(np.abs(a)),a) # returns the round off values\n",
    "print(x)\n",
    "print(y)"
   ]
  },
  {
   "cell_type": "markdown",
   "metadata": {
    "id": "k3-aM1Qb-_Hw"
   },
   "source": [
    "#### 30. How to find common values between two arrays? (★☆☆) \n",
    "(**hint**: np.intersect1d)"
   ]
  },
  {
   "cell_type": "code",
   "execution_count": 17,
   "metadata": {
    "id": "UptHltsz-_Hw"
   },
   "outputs": [
    {
     "name": "stdout",
     "output_type": "stream",
     "text": [
      "[5 6 7 8 9]\n"
     ]
    }
   ],
   "source": [
    "a=np.arange(0,10)\n",
    "b=np.arange(5,15)\n",
    "c=np.intersect1d(a,b)\n",
    "print(c)"
   ]
  },
  {
   "cell_type": "markdown",
   "metadata": {
    "id": "O0QNTFBz-_Hx"
   },
   "source": [
    "#### 31. How to ignore all numpy warnings (not recommended)? (★☆☆) \n",
    "(**hint**: np.seterr, np.errstate)"
   ]
  },
  {
   "cell_type": "code",
   "execution_count": 19,
   "metadata": {
    "id": "ydOLnR_C-_Hx"
   },
   "outputs": [],
   "source": [
    "# Allowing warnings by seterr():\n",
    "defaults = np.seterr(all=\"ignore\")\n",
    "Z = np.ones(1) / 0\n",
    "\n",
    "# Setting again default:\n",
    "_ = np.seterr(**defaults)\n",
    "\n",
    "#Another method using errstate():\n",
    "with np.errstate(divide='ignore'):\n",
    "    Z = np.ones(1) / 0"
   ]
  },
  {
   "cell_type": "markdown",
   "metadata": {
    "id": "O6Ja5Y4k-_Hy"
   },
   "source": [
    "#### 32. Is the following expressions true? (★☆☆) \n",
    "(**hint**: imaginary number)"
   ]
  },
  {
   "cell_type": "markdown",
   "metadata": {
    "id": "qxiLrVaj-_Hy"
   },
   "source": [
    "```python\n",
    "np.sqrt(-1) == np.emath.sqrt(-1)\n",
    "```"
   ]
  },
  {
   "cell_type": "code",
   "execution_count": 20,
   "metadata": {
    "id": "gBb6_xYR-_Hy"
   },
   "outputs": [
    {
     "name": "stderr",
     "output_type": "stream",
     "text": [
      "C:\\Users\\Admin PC\\AppData\\Local\\Temp\\ipykernel_7328\\244602691.py:1: RuntimeWarning: invalid value encountered in sqrt\n",
      "  np.sqrt(-1) == np.emath.sqrt(-1)\n"
     ]
    },
    {
     "data": {
      "text/plain": [
       "False"
      ]
     },
     "execution_count": 20,
     "metadata": {},
     "output_type": "execute_result"
    }
   ],
   "source": [
    "np.sqrt(-1) == np.emath.sqrt(-1)"
   ]
  },
  {
   "cell_type": "markdown",
   "metadata": {
    "id": "BnUfvX1d-_Hz"
   },
   "source": [
    "#### 33. How to get the dates of yesterday, today and tomorrow? (★☆☆) \n",
    "(**hint**: np.datetime64, np.timedelta64)"
   ]
  },
  {
   "cell_type": "code",
   "execution_count": 26,
   "metadata": {
    "id": "mgbNRRao-_Hz"
   },
   "outputs": [
    {
     "name": "stdout",
     "output_type": "stream",
     "text": [
      "Yesterday: 2023-01-07\n",
      "Today: 2023-01-08\n",
      "Tommorrow: 2023-01-09\n"
     ]
    }
   ],
   "source": [
    "yest = np.datetime64(\"today\",\"D\") - np.timedelta64(1,\"D\") # Today date -1 day (for getting yesterday) \n",
    "today = np.datetime64(\"today\",\"D\")\n",
    "tomorrow = np.datetime64(\"today\",\"D\") + np.timedelta64(1,\"D\")\n",
    "print(\"Yesterday:\",yest)\n",
    "print(\"Today:\",today)\n",
    "print(\"Tommorrow:\",tomorrow)"
   ]
  },
  {
   "cell_type": "code",
   "execution_count": 33,
   "metadata": {},
   "outputs": [
    {
     "data": {
      "text/plain": [
       "numpy.timedelta64(2,'D')"
      ]
     },
     "execution_count": 33,
     "metadata": {},
     "output_type": "execute_result"
    }
   ],
   "source": [
    "yest=np.timedelta64(2,\"D\")\n",
    "yest"
   ]
  },
  {
   "cell_type": "markdown",
   "metadata": {
    "id": "UsGGLqop-_H0"
   },
   "source": [
    "#### 34. How to get all the dates corresponding to the month of July 2016? (★★☆) \n",
    "(**hint**: np.arange(dtype=datetime64\\['D'\\]))"
   ]
  },
  {
   "cell_type": "code",
   "execution_count": 29,
   "metadata": {
    "id": "Xb11WzXn-_H0"
   },
   "outputs": [
    {
     "data": {
      "text/plain": [
       "array(['2016-01-01', '2016-01-02', '2016-01-03', '2016-01-04',\n",
       "       '2016-01-05', '2016-01-06', '2016-01-07', '2016-01-08',\n",
       "       '2016-01-09', '2016-01-10', '2016-01-11', '2016-01-12',\n",
       "       '2016-01-13', '2016-01-14', '2016-01-15', '2016-01-16',\n",
       "       '2016-01-17', '2016-01-18', '2016-01-19', '2016-01-20',\n",
       "       '2016-01-21', '2016-01-22', '2016-01-23', '2016-01-24',\n",
       "       '2016-01-25', '2016-01-26', '2016-01-27', '2016-01-28',\n",
       "       '2016-01-29', '2016-01-30', '2016-01-31'], dtype='datetime64[D]')"
      ]
     },
     "execution_count": 29,
     "metadata": {},
     "output_type": "execute_result"
    }
   ],
   "source": [
    "np.arange(\"2016-01\",\"2016-02\",dtype=\"datetime64[D]\")"
   ]
  },
  {
   "cell_type": "markdown",
   "metadata": {
    "id": "jQgjM2rc-_H0"
   },
   "source": [
    "#### 35. How to compute ((A+B)\\*(-A/2)) in place (without copy)? (★★☆) \n",
    "(**hint**: np.add(out=), np.negative(out=), np.multiply(out=), np.divide(out=))"
   ]
  },
  {
   "cell_type": "code",
   "execution_count": 47,
   "metadata": {
    "id": "NfYUGK6o-_H1"
   },
   "outputs": [
    {
     "data": {
      "text/plain": [
       "array([ -0.,  -2.,  -6., -12., -20.])"
      ]
     },
     "execution_count": 47,
     "metadata": {},
     "output_type": "execute_result"
    }
   ],
   "source": [
    "A = np.arange(5.0)\n",
    "B = np.arange(2.0,7.0)\n",
    "                       # It can add,multiply,divide if two array has same shape \n",
    "np.add(A,B,out = B)\n",
    "\n",
    "np.divide(A,2,out=A)\n",
    "\n",
    "np.negative(A,out =A)\n",
    "\n",
    "np.multiply(A,B,out=A)"
   ]
  },
  {
   "cell_type": "markdown",
   "metadata": {
    "id": "wvDXwEXB-_H1"
   },
   "source": [
    "#### 36. Extract the integer part of a random array using 5 different methods (★★☆) \n",
    "(**hint**: %, np.floor, np.ceil, astype, np.trunc)"
   ]
  },
  {
   "cell_type": "code",
   "execution_count": 58,
   "metadata": {
    "id": "M-b1mb-9-_H1"
   },
   "outputs": [
    {
     "name": "stdout",
     "output_type": "stream",
     "text": [
      "[62.48429189 34.63595968  4.40255534 42.32033579 58.36287291 13.26047907\n",
      " 11.33089751 34.55575171 79.5796909  36.05703809]\n",
      "[62. 34.  4. 42. 58. 13. 11. 34. 79. 36.]\n",
      "[62. 34.  4. 42. 58. 13. 11. 34. 79. 36.]\n",
      "[63. 35.  5. 43. 59. 14. 12. 35. 80. 37.]\n",
      "[62 34  4 42 58 13 11 34 79 36]\n",
      "[62. 34.  4. 42. 58. 13. 11. 34. 79. 36.]\n"
     ]
    }
   ],
   "source": [
    "a=np.random.uniform(0,100,10) # random.uniform(low,high,size)\n",
    "print(a)\n",
    "print(a-a%1) # By modulus method\n",
    "print(np.floor(a)) # by floor method(round-down method)\n",
    "print(np.ceil(a)) # by ceil method(round up method)\n",
    "print(a.astype(\"int64\")) # by astype(\"int64\")\n",
    "print(np.trunc(a)) #(round towards zero)"
   ]
  },
  {
   "cell_type": "markdown",
   "metadata": {
    "id": "1FKFzVEO-_H2"
   },
   "source": [
    "#### 37. Create a 5x5 matrix with row values ranging from 0 to 4 (★★☆) \n",
    "(**hint**: np.arange)"
   ]
  },
  {
   "cell_type": "code",
   "execution_count": 76,
   "metadata": {
    "id": "dygmaNyr-_H2"
   },
   "outputs": [
    {
     "name": "stdout",
     "output_type": "stream",
     "text": [
      "[[0. 1. 2. 3. 4.]\n",
      " [0. 1. 2. 3. 4.]\n",
      " [0. 1. 2. 3. 4.]\n",
      " [0. 1. 2. 3. 4.]\n",
      " [0. 1. 2. 3. 4.]]\n",
      "[[0. 1. 2. 3. 4.]\n",
      " [0. 1. 2. 3. 4.]\n",
      " [0. 1. 2. 3. 4.]\n",
      " [0. 1. 2. 3. 4.]\n",
      " [0. 1. 2. 3. 4.]]\n"
     ]
    }
   ],
   "source": [
    "#method1\n",
    "a = np.ones((5,5))\n",
    "a = np.arange(5) * a\n",
    "print(a)\n",
    "\n",
    "#method2\n",
    "a2 = np.zeros((5,5))\n",
    "a2 = np.arange(5) + a2\n",
    "print(a2)"
   ]
  },
  {
   "cell_type": "markdown",
   "metadata": {
    "id": "_HyjzKPE-_H3"
   },
   "source": [
    "#### 38. Consider a generator function that generates 10 integers and use it to build an array (★☆☆) \n",
    "(**hint**: np.fromiter)"
   ]
  },
  {
   "cell_type": "code",
   "execution_count": 79,
   "metadata": {
    "id": "xB3PJC6C-_H3"
   },
   "outputs": [
    {
     "name": "stdout",
     "output_type": "stream",
     "text": [
      "[0 1 2 3 4 5 6 7 8 9]\n"
     ]
    }
   ],
   "source": [
    "def generate():\n",
    "    iterable= [x for x in range(10)]\n",
    "    return iterable\n",
    "print(np.fromiter(generate(),int))   # np.fromiter(iterables,dtype) same as  np.array(iterable)"
   ]
  },
  {
   "cell_type": "markdown",
   "metadata": {
    "id": "RoCjAPjd-_H4"
   },
   "source": [
    "#### 39. Create a vector of size 10 with values ranging from 0 to 1, both excluded (★★☆) \n",
    "(**hint**: np.linspace)"
   ]
  },
  {
   "cell_type": "code",
   "execution_count": 90,
   "metadata": {
    "id": "ISLP_nlX-_H4"
   },
   "outputs": [
    {
     "name": "stdout",
     "output_type": "stream",
     "text": [
      "[0.09090909 0.18181818 0.27272727 0.36363636 0.45454545 0.54545455\n",
      " 0.63636364 0.72727273 0.81818182 0.90909091]\n"
     ]
    }
   ],
   "source": [
    "\n",
    "#numpy.linspace(start,stop,num = np. of samples,endpoint = True,retstep = False,dtype = None)\n",
    "a=np.linspace(0,1,num = 11,endpoint=False)[1:] \n",
    "print(a)                        # Here endpoint= False and [1:] for excluding both"
   ]
  },
  {
   "cell_type": "markdown",
   "metadata": {
    "id": "9Eq_a_lH-_H5"
   },
   "source": [
    "#### 40. Create a random vector of size 10 and sort it (★★☆) \n",
    "(**hint**: sort)"
   ]
  },
  {
   "cell_type": "code",
   "execution_count": 81,
   "metadata": {
    "id": "2yQSEpQn-_H5"
   },
   "outputs": [
    {
     "name": "stdout",
     "output_type": "stream",
     "text": [
      "[0.05854222 0.07975916 0.15502068 0.17833112 0.17939631 0.22145856\n",
      " 0.30604528 0.32981888 0.72108458 0.98979925]\n"
     ]
    }
   ],
   "source": [
    "a=np.random.random(10)\n",
    "a.sort()  # For sorting the array\n",
    "print(a)"
   ]
  },
  {
   "cell_type": "markdown",
   "metadata": {
    "id": "v7EWjH7h-_H5"
   },
   "source": [
    "#### 41. How to sum a small array faster than np.sum? (★★☆) \n",
    "(**hint**: np.add.reduce)"
   ]
  },
  {
   "cell_type": "code",
   "execution_count": 84,
   "metadata": {
    "id": "s6Hi3m29-_H6"
   },
   "outputs": [
    {
     "name": "stdout",
     "output_type": "stream",
     "text": [
      "45\n"
     ]
    }
   ],
   "source": [
    "a=np.arange(10)\n",
    "print(np.add.reduce(a)) # Another method is np.sum but slower than this in small matrix\n"
   ]
  },
  {
   "cell_type": "markdown",
   "metadata": {
    "id": "LYXrXUeC-_H6"
   },
   "source": [
    "#### 42. Consider two random array A and B, check if they are equal (★★☆) \n",
    "(**hint**: np.allclose, np.array\\_equal)"
   ]
  },
  {
   "cell_type": "code",
   "execution_count": 86,
   "metadata": {
    "id": "_5Pevd1c-_H7"
   },
   "outputs": [
    {
     "name": "stdout",
     "output_type": "stream",
     "text": [
      "[2 6 2 0 9]\n",
      "[8 8 9 7 3]\n",
      "False\n",
      "False\n"
     ]
    }
   ],
   "source": [
    "A = np.random.randint(0,10,5)\n",
    "print(A)\n",
    "B = np.random.randint(0,10,5)\n",
    "print(B)\n",
    "#method 1:\n",
    "print(np.allclose(A,B))\n",
    "# Method 2:\n",
    "print(np.array_equal(A,B))"
   ]
  },
  {
   "cell_type": "markdown",
   "metadata": {
    "id": "pKDwZJpT-_H7"
   },
   "source": [
    "#### 43. Make an array immutable (read-only) (★★☆) \n",
    "(**hint**: flags.writeable)"
   ]
  },
  {
   "cell_type": "code",
   "execution_count": 93,
   "metadata": {
    "id": "0jt_qpZq-_H7"
   },
   "outputs": [
    {
     "name": "stdout",
     "output_type": "stream",
     "text": [
      "[0. 0. 0. 0. 0. 0. 0. 0. 0. 0.]\n"
     ]
    },
    {
     "ename": "ValueError",
     "evalue": "assignment destination is read-only",
     "output_type": "error",
     "traceback": [
      "\u001b[1;31m---------------------------------------------------------------------------\u001b[0m",
      "\u001b[1;31mValueError\u001b[0m                                Traceback (most recent call last)",
      "\u001b[1;32m~\\AppData\\Local\\Temp\\ipykernel_7328\\4239340146.py\u001b[0m in \u001b[0;36m<module>\u001b[1;34m\u001b[0m\n\u001b[0;32m      2\u001b[0m \u001b[0mprint\u001b[0m\u001b[1;33m(\u001b[0m\u001b[0mx\u001b[0m\u001b[1;33m)\u001b[0m\u001b[1;33m\u001b[0m\u001b[1;33m\u001b[0m\u001b[0m\n\u001b[0;32m      3\u001b[0m \u001b[0mx\u001b[0m\u001b[1;33m.\u001b[0m\u001b[0mflags\u001b[0m\u001b[1;33m.\u001b[0m\u001b[0mwriteable\u001b[0m \u001b[1;33m=\u001b[0m \u001b[1;32mFalse\u001b[0m \u001b[1;31m# making array immutable\u001b[0m\u001b[1;33m\u001b[0m\u001b[1;33m\u001b[0m\u001b[0m\n\u001b[1;32m----> 4\u001b[1;33m \u001b[0mx\u001b[0m\u001b[1;33m[\u001b[0m\u001b[1;36m3\u001b[0m\u001b[1;33m]\u001b[0m \u001b[1;33m=\u001b[0m \u001b[1;36m15\u001b[0m\u001b[1;33m\u001b[0m\u001b[1;33m\u001b[0m\u001b[0m\n\u001b[0m",
      "\u001b[1;31mValueError\u001b[0m: assignment destination is read-only"
     ]
    }
   ],
   "source": [
    "x = np.zeros(10)\n",
    "print(x)\n",
    "x.flags.writeable = False # making array immutable\n",
    "x[3] = 15"
   ]
  },
  {
   "cell_type": "markdown",
   "metadata": {
    "id": "2847F3kF-_H8"
   },
   "source": [
    "#### 44. Consider a random 10x2 matrix representing cartesian coordinates, convert them to polar coordinates (★★☆) \n",
    "(**hint**: np.sqrt, np.arctan2)"
   ]
  },
  {
   "cell_type": "code",
   "execution_count": 10,
   "metadata": {
    "id": "-Xh-JfWj-_H8"
   },
   "outputs": [
    {
     "name": "stdout",
     "output_type": "stream",
     "text": [
      "[0.37109891 0.52932929 0.51215713 1.01933039 0.82616148 0.62993519\n",
      " 1.04813301 0.63909225 0.87056568 0.62537687]\n",
      "[0.90181551 0.99359667 0.09563228 1.01419434 0.45403854 0.51485404\n",
      " 0.97031571 0.78427333 0.88316224 1.47933833]\n"
     ]
    }
   ],
   "source": [
    "z = np.random.random((10,2))\n",
    "x,y = z[:,0],z[:,1]  #x,y is cartesian co-ordinates\n",
    "r= np.sqrt(x**2 + y**2) #r=sq. root of (x^2 + y^2)\n",
    "angle= np.arctan2(y,x) # angle=tan^-1(y/x)\n",
    "print(r)\n",
    "print(angle) # (r,angle) is polar co-ordinates\n",
    "\n"
   ]
  },
  {
   "cell_type": "markdown",
   "metadata": {
    "id": "jbLZJbnu-_H8"
   },
   "source": [
    "#### 45. Create random vector of size 10 and replace the maximum value by 0 (★★☆) \n",
    "(**hint**: argmax)"
   ]
  },
  {
   "cell_type": "code",
   "execution_count": 119,
   "metadata": {
    "id": "1l-yzaNS-_H9"
   },
   "outputs": [
    {
     "name": "stdout",
     "output_type": "stream",
     "text": [
      "[3 2 5 6 2 8 1 8 3 1]\n",
      "[3 2 5 6 2 0 1 8 3 1]\n"
     ]
    }
   ],
   "source": [
    "a = np.random.randint(1,10,10)\n",
    "print(a)\n",
    "a[a.argmax()]= 0 #converting the max value into zero\n",
    "print(a)"
   ]
  },
  {
   "cell_type": "markdown",
   "metadata": {
    "id": "sdM8mKNZ-_H9"
   },
   "source": [
    "#### 46. Create a structured array with `x` and `y` coordinates covering the \\[0,1\\]x\\[0,1\\] area (★★☆) \n",
    "(**hint**: np.meshgrid)"
   ]
  },
  {
   "cell_type": "code",
   "execution_count": 9,
   "metadata": {
    "id": "J9PO_fNZ-_H-"
   },
   "outputs": [
    {
     "name": "stdout",
     "output_type": "stream",
     "text": [
      "[[(0., 0.) (0., 0.) (0., 0.) (0., 0.) (0., 0.)]\n",
      " [(0., 0.) (0., 0.) (0., 0.) (0., 0.) (0., 0.)]\n",
      " [(0., 0.) (0., 0.) (0., 0.) (0., 0.) (0., 0.)]\n",
      " [(0., 0.) (0., 0.) (0., 0.) (0., 0.) (0., 0.)]\n",
      " [(0., 0.) (0., 0.) (0., 0.) (0., 0.) (0., 0.)]]\n",
      "[[(0.  , 0.  ) (0.25, 0.  ) (0.5 , 0.  ) (0.75, 0.  ) (1.  , 0.  )]\n",
      " [(0.  , 0.25) (0.25, 0.25) (0.5 , 0.25) (0.75, 0.25) (1.  , 0.25)]\n",
      " [(0.  , 0.5 ) (0.25, 0.5 ) (0.5 , 0.5 ) (0.75, 0.5 ) (1.  , 0.5 )]\n",
      " [(0.  , 0.75) (0.25, 0.75) (0.5 , 0.75) (0.75, 0.75) (1.  , 0.75)]\n",
      " [(0.  , 1.  ) (0.25, 1.  ) (0.5 , 1.  ) (0.75, 1.  ) (1.  , 1.  )]]\n",
      "[0.   0.25 0.5  0.75 1.  ]\n"
     ]
    }
   ],
   "source": [
    "\n",
    "'''Structured arrays are ndarrays whose datatype is a composition of simpler datatypes \n",
    "organized as a sequence of named fields.'''\n",
    "import numpy as np\n",
    "Z = np.zeros((5,5), [('x',float),('y',float)])\n",
    "print(Z)\n",
    "Z['x'], Z['y'] = np.meshgrid(np.linspace(0,1,5), np.linspace(0,1,5)) # it returns 2 2d array from 2 1d array\n",
    "# But here 2 2d array joined as co-ordinates by structured array of z\n",
    "print(Z)\n"
   ]
  },
  {
   "cell_type": "markdown",
   "metadata": {
    "id": "sxPIo5nj-_H-"
   },
   "source": [
    "####  47. Given two arrays, X and Y, construct the Cauchy matrix C (Cij =1/(xi - yj)) \n",
    "(**hint**: np.subtract.outer)"
   ]
  },
  {
   "cell_type": "code",
   "execution_count": 14,
   "metadata": {
    "id": "ntFR_UtR-_H-"
   },
   "outputs": [
    {
     "name": "stdout",
     "output_type": "stream",
     "text": [
      "[[-2.         -0.66666667 -0.4       ]\n",
      " [ 2.         -2.         -0.66666667]\n",
      " [ 0.66666667  2.         -2.        ]]\n",
      "-15.17037037037037\n"
     ]
    }
   ],
   "source": [
    "\n",
    "X = np.arange(3)\n",
    "Y = X + 0.5\n",
    "C = 1.0 / np.subtract.outer(X, Y) # a[ij]=1/(x[ij]-y[ij]) cauchy matrix form\n",
    "#x[ij]-y[ij] is not done by np.subtract(); It can be done only by np.subtract.outer()\n",
    "print(C)\n",
    "print(np.linalg.det(C)) # determinant of square matrix(cauchy matrix) "
   ]
  },
  {
   "cell_type": "code",
   "execution_count": null,
   "metadata": {},
   "outputs": [],
   "source": []
  },
  {
   "cell_type": "markdown",
   "metadata": {
    "id": "mVVA2Hya-_H_"
   },
   "source": [
    "#### 48. Print the minimum and maximum representable value for each numpy scalar type (★★☆) \n",
    "(**hint**: np.iinfo, np.finfo, eps)"
   ]
  },
  {
   "cell_type": "code",
   "execution_count": 16,
   "metadata": {},
   "outputs": [
    {
     "name": "stdout",
     "output_type": "stream",
     "text": [
      "Machine parameters for int8\n",
      "---------------------------------------------------------------\n",
      "min = -128\n",
      "max = 127\n",
      "---------------------------------------------------------------\n",
      "\n",
      "\n",
      "Machine parameters for int32\n",
      "---------------------------------------------------------------\n",
      "min = -2147483648\n",
      "max = 2147483647\n",
      "---------------------------------------------------------------\n",
      "\n",
      "\n",
      "Machine parameters for int64\n",
      "---------------------------------------------------------------\n",
      "min = -9223372036854775808\n",
      "max = 9223372036854775807\n",
      "---------------------------------------------------------------\n",
      "\n",
      "\n",
      "Machine parameters for float32\n",
      "---------------------------------------------------------------\n",
      "precision =   6   resolution = 1.0000000e-06\n",
      "machep =    -23   eps =        1.1920929e-07\n",
      "negep =     -24   epsneg =     5.9604645e-08\n",
      "minexp =   -126   tiny =       1.1754944e-38\n",
      "maxexp =    128   max =        3.4028235e+38\n",
      "nexp =        8   min =        -max\n",
      "---------------------------------------------------------------\n",
      "\n",
      "\n",
      "Machine parameters for float64\n",
      "---------------------------------------------------------------\n",
      "precision =  15   resolution = 1.0000000000000001e-15\n",
      "machep =    -52   eps =        2.2204460492503131e-16\n",
      "negep =     -53   epsneg =     1.1102230246251565e-16\n",
      "minexp =  -1022   tiny =       2.2250738585072014e-308\n",
      "maxexp =   1024   max =        1.7976931348623157e+308\n",
      "nexp =       11   min =        -max\n",
      "---------------------------------------------------------------\n",
      "\n",
      "\n"
     ]
    }
   ],
   "source": [
    "#for integer types\n",
    "for dtype in [np.int8, np.int32, np.int64]:\n",
    "    print(np.iinfo(dtype))\n",
    "    print()\n",
    "    \n",
    "#for float types\n",
    "for dtype in [np.float32, np.float64]:\n",
    "    print(np.finfo(dtype))\n",
    "    print()"
   ]
  },
  {
   "cell_type": "markdown",
   "metadata": {
    "id": "-7xeX--p-_IA"
   },
   "source": [
    "#### 49. How to print all the values of an array? (★★☆) \n",
    "(**hint**: np.set\\_printoptions)"
   ]
  },
  {
   "cell_type": "code",
   "execution_count": 20,
   "metadata": {
    "id": "lhOv-L4f-_IB"
   },
   "outputs": [
    {
     "name": "stdout",
     "output_type": "stream",
     "text": [
      "[[0. 0. 0. 0. 0. 0. 0. 0. 0. 0. 0. 0. 0. 0. 0. 0. 0. 0. 0. 0. 0. 0. 0. 0.\n",
      "  0.]\n",
      " [0. 0. 0. 0. 0. 0. 0. 0. 0. 0. 0. 0. 0. 0. 0. 0. 0. 0. 0. 0. 0. 0. 0. 0.\n",
      "  0.]\n",
      " [0. 0. 0. 0. 0. 0. 0. 0. 0. 0. 0. 0. 0. 0. 0. 0. 0. 0. 0. 0. 0. 0. 0. 0.\n",
      "  0.]\n",
      " [0. 0. 0. 0. 0. 0. 0. 0. 0. 0. 0. 0. 0. 0. 0. 0. 0. 0. 0. 0. 0. 0. 0. 0.\n",
      "  0.]\n",
      " [0. 0. 0. 0. 0. 0. 0. 0. 0. 0. 0. 0. 0. 0. 0. 0. 0. 0. 0. 0. 0. 0. 0. 0.\n",
      "  0.]\n",
      " [0. 0. 0. 0. 0. 0. 0. 0. 0. 0. 0. 0. 0. 0. 0. 0. 0. 0. 0. 0. 0. 0. 0. 0.\n",
      "  0.]\n",
      " [0. 0. 0. 0. 0. 0. 0. 0. 0. 0. 0. 0. 0. 0. 0. 0. 0. 0. 0. 0. 0. 0. 0. 0.\n",
      "  0.]\n",
      " [0. 0. 0. 0. 0. 0. 0. 0. 0. 0. 0. 0. 0. 0. 0. 0. 0. 0. 0. 0. 0. 0. 0. 0.\n",
      "  0.]\n",
      " [0. 0. 0. 0. 0. 0. 0. 0. 0. 0. 0. 0. 0. 0. 0. 0. 0. 0. 0. 0. 0. 0. 0. 0.\n",
      "  0.]\n",
      " [0. 0. 0. 0. 0. 0. 0. 0. 0. 0. 0. 0. 0. 0. 0. 0. 0. 0. 0. 0. 0. 0. 0. 0.\n",
      "  0.]\n",
      " [0. 0. 0. 0. 0. 0. 0. 0. 0. 0. 0. 0. 0. 0. 0. 0. 0. 0. 0. 0. 0. 0. 0. 0.\n",
      "  0.]\n",
      " [0. 0. 0. 0. 0. 0. 0. 0. 0. 0. 0. 0. 0. 0. 0. 0. 0. 0. 0. 0. 0. 0. 0. 0.\n",
      "  0.]\n",
      " [0. 0. 0. 0. 0. 0. 0. 0. 0. 0. 0. 0. 0. 0. 0. 0. 0. 0. 0. 0. 0. 0. 0. 0.\n",
      "  0.]\n",
      " [0. 0. 0. 0. 0. 0. 0. 0. 0. 0. 0. 0. 0. 0. 0. 0. 0. 0. 0. 0. 0. 0. 0. 0.\n",
      "  0.]\n",
      " [0. 0. 0. 0. 0. 0. 0. 0. 0. 0. 0. 0. 0. 0. 0. 0. 0. 0. 0. 0. 0. 0. 0. 0.\n",
      "  0.]\n",
      " [0. 0. 0. 0. 0. 0. 0. 0. 0. 0. 0. 0. 0. 0. 0. 0. 0. 0. 0. 0. 0. 0. 0. 0.\n",
      "  0.]\n",
      " [0. 0. 0. 0. 0. 0. 0. 0. 0. 0. 0. 0. 0. 0. 0. 0. 0. 0. 0. 0. 0. 0. 0. 0.\n",
      "  0.]\n",
      " [0. 0. 0. 0. 0. 0. 0. 0. 0. 0. 0. 0. 0. 0. 0. 0. 0. 0. 0. 0. 0. 0. 0. 0.\n",
      "  0.]\n",
      " [0. 0. 0. 0. 0. 0. 0. 0. 0. 0. 0. 0. 0. 0. 0. 0. 0. 0. 0. 0. 0. 0. 0. 0.\n",
      "  0.]\n",
      " [0. 0. 0. 0. 0. 0. 0. 0. 0. 0. 0. 0. 0. 0. 0. 0. 0. 0. 0. 0. 0. 0. 0. 0.\n",
      "  0.]\n",
      " [0. 0. 0. 0. 0. 0. 0. 0. 0. 0. 0. 0. 0. 0. 0. 0. 0. 0. 0. 0. 0. 0. 0. 0.\n",
      "  0.]\n",
      " [0. 0. 0. 0. 0. 0. 0. 0. 0. 0. 0. 0. 0. 0. 0. 0. 0. 0. 0. 0. 0. 0. 0. 0.\n",
      "  0.]\n",
      " [0. 0. 0. 0. 0. 0. 0. 0. 0. 0. 0. 0. 0. 0. 0. 0. 0. 0. 0. 0. 0. 0. 0. 0.\n",
      "  0.]\n",
      " [0. 0. 0. 0. 0. 0. 0. 0. 0. 0. 0. 0. 0. 0. 0. 0. 0. 0. 0. 0. 0. 0. 0. 0.\n",
      "  0.]\n",
      " [0. 0. 0. 0. 0. 0. 0. 0. 0. 0. 0. 0. 0. 0. 0. 0. 0. 0. 0. 0. 0. 0. 0. 0.\n",
      "  0.]]\n"
     ]
    }
   ],
   "source": [
    "np.set_printoptions(threshold=np.inf) # threshold = sys.maxsize for numbers displaying all values in array\n",
    "a=np.zeros((25,25))\n",
    "print(a)"
   ]
  },
  {
   "cell_type": "markdown",
   "metadata": {
    "id": "6ZHU7EyG-_IC"
   },
   "source": [
    "#### 50. How to find the closest value (to a given scalar) in a vector? (★★☆) \n",
    "(**hint**: argmin)"
   ]
  },
  {
   "cell_type": "code",
   "execution_count": 26,
   "metadata": {
    "id": "RCHu02ey-_IC"
   },
   "outputs": [
    {
     "name": "stdout",
     "output_type": "stream",
     "text": [
      "62\n"
     ]
    }
   ],
   "source": [
    "x = np.arange(100)\n",
    "y = np.random.uniform(0,100) # random uniform dist variable\n",
    "index = (np.abs(x-y)).argmin() # argument/index of x close to y variable\n",
    "print(x[index]) # closest value to a given scalar value"
   ]
  },
  {
   "cell_type": "markdown",
   "metadata": {
    "id": "UmhhN6w0-_ID"
   },
   "source": [
    "#### 51. Create a structured array representing a position (x,y) and a color (r,g,b) (★★☆) \n",
    "(**hint**: dtype)"
   ]
  },
  {
   "cell_type": "code",
   "execution_count": 30,
   "metadata": {
    "id": "FbIxM2dq-_ID"
   },
   "outputs": [
    {
     "name": "stdout",
     "output_type": "stream",
     "text": [
      "[[((0., 0.), (0., 0., 0.)) ((0., 0.), (0., 0., 0.))]\n",
      " [((0., 0.), (0., 0., 0.)) ((0., 0.), (0., 0., 0.))]]\n"
     ]
    },
    {
     "name": "stderr",
     "output_type": "stream",
     "text": [
      "C:\\Users\\Admin PC\\AppData\\Local\\Temp\\ipykernel_14500\\1817649221.py:1: FutureWarning: Passing (type, 1) or '1type' as a synonym of type is deprecated; in a future version of numpy, it will be understood as (type, (1,)) / '(1,)type'.\n",
      "  x = np.zeros((2,2), [ ('position', [ ('x', float, 1),\n"
     ]
    }
   ],
   "source": [
    "x = np.zeros((2,2), [ ('position', [ ('x', float, 1),\n",
    "                                  ('y', float, 1)]),\n",
    "                   ('color',    [ ('r', float, 1),\n",
    "                                  ('g', float, 1),\n",
    "                                  ('b', float, 1)])])\n",
    "print(x)  # structured array of((positions(x,y)),(colour(r,g,b))"
   ]
  },
  {
   "cell_type": "markdown",
   "metadata": {
    "id": "uJvScjae-_ID"
   },
   "source": [
    "#### 52. Consider a random vector with shape (100,2) representing coordinates, find point by point distances (★★☆) \n",
    "(**hint**: np.atleast\\_2d, T, np.sqrt)"
   ]
  },
  {
   "cell_type": "code",
   "execution_count": 32,
   "metadata": {
    "id": "eimslGmh-_IE"
   },
   "outputs": [
    {
     "name": "stdout",
     "output_type": "stream",
     "text": [
      "[[0.96621796 0.91115096]\n",
      " [0.47295748 0.85137758]\n",
      " [0.19017682 0.5096367 ]\n",
      " [0.52385556 0.77057069]\n",
      " [0.0961354  0.31775081]\n",
      " [0.2659062  0.61090486]\n",
      " [0.69900238 0.90418354]\n",
      " [0.38522654 0.2153835 ]\n",
      " [0.96420917 0.10844512]\n",
      " [0.81662858 0.39812818]]\n",
      "[[0.         0.49686895 0.87375829 0.46416302 1.05317017 0.76196081\n",
      "  0.26730639 0.90644547 0.80270835 0.53438689]\n",
      " [0.49686895 0.         0.44356705 0.09550062 0.65326289 0.31732848\n",
      "  0.23213093 0.6420165  0.89066091 0.56881002]\n",
      " [0.87375829 0.44356705 0.         0.42358947 0.21369133 0.12645228\n",
      "  0.64387162 0.3530288  0.8718261  0.63629864]\n",
      " [0.46416302 0.09550062 0.42358947 0.         0.62288873 0.3033662\n",
      "  0.22029255 0.57223318 0.7951865  0.47373987]\n",
      " [1.05317017 0.65326289 0.21369133 0.62288873 0.         0.33876455\n",
      "  0.84104218 0.30668022 0.8929507  0.72496273]\n",
      " [0.76196081 0.31732848 0.12645228 0.3033662  0.33876455 0.\n",
      "  0.52305324 0.41312769 0.86028648 0.59039738]\n",
      " [0.26730639 0.23213093 0.64387162 0.22029255 0.84104218 0.52305324\n",
      "  0.         0.75690209 0.8387695  0.5195459 ]\n",
      " [0.90644547 0.6420165  0.3530288  0.57223318 0.30668022 0.41312769\n",
      "  0.75690209 0.         0.58877559 0.46851184]\n",
      " [0.80270835 0.89066091 0.8718261  0.7951865  0.8929507  0.86028648\n",
      "  0.8387695  0.58877559 0.         0.32510968]\n",
      " [0.53438689 0.56881002 0.63629864 0.47373987 0.72496273 0.59039738\n",
      "  0.5195459  0.46851184 0.32510968 0.        ]]\n"
     ]
    }
   ],
   "source": [
    "Z = np.random.random((10,2)) # Here (10,2) is created for displaying result smoothly\n",
    "print(Z)\n",
    "X,Y = np.atleast_2d(Z[:,0],Z[:,1]) # To convert into 2-D array with co-ordinates\n",
    "A = np.sqrt((X-X.T)**2+(Y-Y.T)**2) # distance between two points formula\n",
    "print(A)"
   ]
  },
  {
   "cell_type": "markdown",
   "metadata": {
    "id": "3WTeRgve-_IE"
   },
   "source": [
    "#### 53. How to convert a float (32 bits) array into an integer (32 bits) in place? \n",
    "(**hint**: astype(copy=False))"
   ]
  },
  {
   "cell_type": "code",
   "execution_count": 35,
   "metadata": {
    "id": "wiZtB9EF-_IF"
   },
   "outputs": [
    {
     "name": "stdout",
     "output_type": "stream",
     "text": [
      "[ 0  1  2  3  4  5  6  7  8  9 10 11 12 13 14 15 16 17 18 19 20 21 22 23\n",
      " 24]\n"
     ]
    }
   ],
   "source": [
    "x= np.arange(25, dtype=np.float32)\n",
    "x= x.astype(np.int32, copy=False)\n",
    "print(x)"
   ]
  },
  {
   "cell_type": "markdown",
   "metadata": {
    "id": "VJg9Ugph-_IF"
   },
   "source": [
    "#### 54. How to read the following file? (★★☆) \n",
    "(**hint**: np.genfromtxt)"
   ]
  },
  {
   "cell_type": "markdown",
   "metadata": {
    "id": "J_gQNy-Q-_IG"
   },
   "source": [
    "```\n",
    "1, 2, 3, 4, 5\n",
    "6,  ,  , 7, 8\n",
    " ,  , 9,10,11\n",
    "```"
   ]
  },
  {
   "cell_type": "code",
   "execution_count": 33,
   "metadata": {
    "id": "smTv2rZB-_IH"
   },
   "outputs": [
    {
     "name": "stdout",
     "output_type": "stream",
     "text": [
      "[[ 1  2  3  4  5]\n",
      " [ 6 -1 -1  7  8]\n",
      " [-1 -1  9 10 11]]\n"
     ]
    },
    {
     "name": "stderr",
     "output_type": "stream",
     "text": [
      "C:\\Users\\Admin PC\\AppData\\Local\\Temp\\ipykernel_14500\\3426427472.py:5: DeprecationWarning: `np.int` is a deprecated alias for the builtin `int`. To silence this warning, use `int` by itself. Doing this will not modify any behavior and is safe. When replacing `np.int`, you may wish to use e.g. `np.int64` or `np.int32` to specify the precision. If you wish to review your current use, check the release note link for additional information.\n",
      "Deprecated in NumPy 1.20; for more details and guidance: https://numpy.org/devdocs/release/1.20.0-notes.html#deprecations\n",
      "  Z = np.genfromtxt(s, delimiter=\",\", dtype=np.int)\n"
     ]
    }
   ],
   "source": [
    "from io import StringIO # for converting string to string/text file object\n",
    "# fake file:\n",
    "s = StringIO(\"\"\"1, 2, 3, 4, 5\\n  \n",
    "                6,  ,  , 7, 8\\n\n",
    "                 ,  , 9,10,11\\n\"\"\")\n",
    "Z = np.genfromtxt(s, delimiter=\",\", dtype=np.int) # loading from text file\n",
    "print(Z)"
   ]
  },
  {
   "cell_type": "markdown",
   "metadata": {
    "id": "spwbLGX2-_IH"
   },
   "source": [
    "#### 55. What is the equivalent of enumerate for numpy arrays? (★★☆) \n",
    "(**hint**: np.ndenumerate, np.ndindex)"
   ]
  },
  {
   "cell_type": "code",
   "execution_count": 46,
   "metadata": {
    "id": "0sp-r_wR-_IH"
   },
   "outputs": [
    {
     "name": "stdout",
     "output_type": "stream",
     "text": [
      "[[0 1]\n",
      " [2 3]]\n",
      "(0, 0) 0\n",
      "(0, 1) 1\n",
      "(1, 0) 2\n",
      "(1, 1) 3\n",
      "\n",
      "Alternate way of enumerate\n",
      "(0, 0) 0\n",
      "(0, 1) 1\n",
      "(1, 0) 2\n",
      "(1, 1) 3\n"
     ]
    }
   ],
   "source": [
    "x = np.arange(4).reshape(2,2)\n",
    "print(x)\n",
    "\n",
    "for ind,ele in np.ndenumerate(x):\n",
    "    print(ind,ele)\n",
    "    \n",
    "print()\n",
    "print(\"Alternate way of enumerate\")\n",
    "    \n",
    "for ind in np.ndindex(np.shape(x)): # for accessing the nd index of nd array\n",
    "    print(ind,x[ind])"
   ]
  },
  {
   "cell_type": "markdown",
   "metadata": {
    "id": "9Ch7MiBy-_II"
   },
   "source": [
    "#### 56. Generate a generic 2D Gaussian-like array (★★☆) \n",
    "(**hint**: np.meshgrid, np.exp)"
   ]
  },
  {
   "cell_type": "code",
   "execution_count": 48,
   "metadata": {
    "id": "bNWrYAy2-_II"
   },
   "outputs": [
    {
     "name": "stdout",
     "output_type": "stream",
     "text": [
      "[[0.32602467 0.39722541 0.46065623 0.50847573 0.53421597 0.53421597\n",
      "  0.50847573 0.46065623 0.39722541 0.32602467]\n",
      " [0.39722541 0.48397573 0.56125925 0.61952208 0.65088376 0.65088376\n",
      "  0.61952208 0.56125925 0.48397573 0.39722541]\n",
      " [0.46065623 0.56125925 0.65088376 0.71845028 0.75481993 0.75481993\n",
      "  0.71845028 0.65088376 0.56125925 0.46065623]\n",
      " [0.50847573 0.61952208 0.71845028 0.7930307  0.83317578 0.83317578\n",
      "  0.7930307  0.71845028 0.61952208 0.50847573]\n",
      " [0.53421597 0.65088376 0.75481993 0.83317578 0.87535311 0.87535311\n",
      "  0.83317578 0.75481993 0.65088376 0.53421597]\n",
      " [0.53421597 0.65088376 0.75481993 0.83317578 0.87535311 0.87535311\n",
      "  0.83317578 0.75481993 0.65088376 0.53421597]\n",
      " [0.50847573 0.61952208 0.71845028 0.7930307  0.83317578 0.83317578\n",
      "  0.7930307  0.71845028 0.61952208 0.50847573]\n",
      " [0.46065623 0.56125925 0.65088376 0.71845028 0.75481993 0.75481993\n",
      "  0.71845028 0.65088376 0.56125925 0.46065623]\n",
      " [0.39722541 0.48397573 0.56125925 0.61952208 0.65088376 0.65088376\n",
      "  0.61952208 0.56125925 0.48397573 0.39722541]\n",
      " [0.32602467 0.39722541 0.46065623 0.50847573 0.53421597 0.53421597\n",
      "  0.50847573 0.46065623 0.39722541 0.32602467]]\n"
     ]
    }
   ],
   "source": [
    "X,Y = np.meshgrid(np.linspace(-1,1,10), np.linspace(-1,1,10))\n",
    "D = np.sqrt(X*X+Y*Y)\n",
    "sigma, mu = 1.0, 0.0\n",
    "normal= 1/2*(np.sqrt(np.pi * sigma))\n",
    "Gauss = np.exp(-((D-mu)**2 / (2.0 * sigma**2)))* normal # gaussian distribution\n",
    "print(Gauss)"
   ]
  },
  {
   "cell_type": "markdown",
   "metadata": {
    "id": "k0jHXnjf-_II"
   },
   "source": [
    "#### 57. How to randomly place p elements in a 2D array? (★★☆) \n",
    "(**hint**: np.put, np.random.choice)"
   ]
  },
  {
   "cell_type": "code",
   "execution_count": 56,
   "metadata": {
    "id": "Njq2nRpo-_IJ"
   },
   "outputs": [
    {
     "name": "stdout",
     "output_type": "stream",
     "text": [
      "[ 2 12]\n",
      "[[0. 0. 5. 0.]\n",
      " [0. 0. 0. 0.]\n",
      " [0. 0. 0. 0.]\n",
      " [5. 0. 0. 0.]]\n"
     ]
    }
   ],
   "source": [
    "n = 4\n",
    "p = 2\n",
    "Z = np.zeros((n,n))\n",
    "\n",
    "a = np.random.choice(range(n*n), p, replace=False) # Range to choose,No. of samples\n",
    "print(a)\n",
    "\n",
    "np.put(Z, a,5) # To replace elements from specific indexes (np.put(target array,index,new values))\n",
    "print(Z)"
   ]
  },
  {
   "cell_type": "markdown",
   "metadata": {
    "id": "3zgjat0C-_IJ"
   },
   "source": [
    "#### 58. Subtract the mean of each row of a matrix (★★☆) \n",
    "(**hint**: mean(axis=,keepdims=))"
   ]
  },
  {
   "cell_type": "code",
   "execution_count": 62,
   "metadata": {
    "id": "lCcwsApm-_IK"
   },
   "outputs": [
    {
     "name": "stdout",
     "output_type": "stream",
     "text": [
      "[[0 1]\n",
      " [3 0]\n",
      " [4 1]\n",
      " [1 2]\n",
      " [4 4]]\n",
      "[[-0.5  0.5]\n",
      " [ 1.5 -1.5]\n",
      " [ 1.5 -1.5]\n",
      " [-0.5  0.5]\n",
      " [ 0.   0. ]]\n"
     ]
    }
   ],
   "source": [
    "a=np.random.choice(range(5),10).reshape(5,2)\n",
    "b=a-a.mean(axis=1,keepdims=True) # keepdims=True for matching the methods with another matrix appropriate\n",
    "print(b)"
   ]
  },
  {
   "cell_type": "markdown",
   "metadata": {
    "id": "dXvm_S6k-_IK"
   },
   "source": [
    "#### 59. How to sort an array by the nth column? (★★☆) \n",
    "(**hint**: argsort)"
   ]
  },
  {
   "cell_type": "code",
   "execution_count": 64,
   "metadata": {
    "id": "6OxhyeIF-_IK"
   },
   "outputs": [
    {
     "name": "stdout",
     "output_type": "stream",
     "text": [
      "Original Array\n",
      "[[ 1 22 25 19 60]\n",
      " [30 89 96 86 77]\n",
      " [20 88 25 63 47]\n",
      " [78  3 33  5 99]\n",
      " [69 97 50 35 98]\n",
      " [74 14  5 38 93]]\n",
      "\n",
      "Sorted Array \n",
      "[[78  3 33  5 99]\n",
      " [74 14  5 38 93]\n",
      " [ 1 22 25 19 60]\n",
      " [20 88 25 63 47]\n",
      " [30 89 96 86 77]\n",
      " [69 97 50 35 98]]\n"
     ]
    }
   ],
   "source": [
    "a=np.random.randint(1,100,30).reshape(6,5)\n",
    "b = a[a[:,1].argsort()] # sorting the array by nth column \n",
    "print(\"Original Array\")\n",
    "print(a)\n",
    "print()\n",
    "print(\"Sorted Array \")\n",
    "print(b)"
   ]
  },
  {
   "cell_type": "markdown",
   "metadata": {
    "id": "kZ_ETnGM-_IL"
   },
   "source": [
    "#### 60. How to tell if a given 2D array has null columns? (★★☆) \n",
    "(**hint**: any, ~)"
   ]
  },
  {
   "cell_type": "code",
   "execution_count": 76,
   "metadata": {
    "id": "tnBbKzUK-_IL"
   },
   "outputs": [
    {
     "name": "stdout",
     "output_type": "stream",
     "text": [
      "False\n"
     ]
    }
   ],
   "source": [
    "x = np.random.randint(0,3,(5,10))\n",
    "print((~x.any(axis=0)).any()) # displaying if any column has null values only"
   ]
  },
  {
   "cell_type": "markdown",
   "metadata": {
    "id": "5WtQU69A-_IL"
   },
   "source": [
    "#### 61. Find the nearest value from a given value in an array (★★☆) \n",
    "(**hint**: np.abs, argmin, flat)"
   ]
  },
  {
   "cell_type": "code",
   "execution_count": 99,
   "metadata": {
    "id": "sq3cQ5MN-_IM"
   },
   "outputs": [
    {
     "name": "stdout",
     "output_type": "stream",
     "text": [
      "[[0.49547345 0.58780777 0.9890239 ]\n",
      " [0.6525669  0.84619378 0.99813596]\n",
      " [0.54636219 0.40590548 0.68906783]]\n",
      "3\n",
      "[0.49547345 0.58780777 0.9890239 ]\n"
     ]
    }
   ],
   "source": [
    "x = np.random.uniform(0,1,(3,3))\n",
    "print(x)\n",
    "y = 0.65\n",
    "k = np.abs(x - y).argmin()\n",
    "print(k)\n",
    "print(x.flat[k]) # It is used for converting the 2D/3D array into 1d array by index in slice or single index\n"
   ]
  },
  {
   "cell_type": "markdown",
   "metadata": {
    "id": "IFe5y7IM-_IM"
   },
   "source": [
    "#### 62. Considering two arrays with shape (1,3) and (3,1), how to compute their sum using an iterator? (★★☆) \n",
    "(**hint**: np.nditer)"
   ]
  },
  {
   "cell_type": "code",
   "execution_count": 106,
   "metadata": {
    "id": "z78S_kL7-_IM"
   },
   "outputs": [
    {
     "name": "stdout",
     "output_type": "stream",
     "text": [
      "[[4]\n",
      " [2]\n",
      " [0]]\n",
      "\n",
      "[[13  6 19]]\n",
      "\n",
      "[[17 10 23]\n",
      " [15  8 21]\n",
      " [13  6 19]]\n"
     ]
    }
   ],
   "source": [
    "A = np.random.randint(0,10,3).reshape(3,1)\n",
    "B = np.random.randint(0,20,3).reshape(1,3)\n",
    "print(A)\n",
    "print()\n",
    "print(B)\n",
    "print()\n",
    "it = np.nditer([A,B,None])\n",
    "for x,y,z in it: z[...] = x + y\n",
    "print(it.operands[2])"
   ]
  },
  {
   "cell_type": "markdown",
   "metadata": {
    "id": "4xxHs8Kf-_IN"
   },
   "source": [
    "#### 63. Create an array class that has a name attribute (★★☆) \n",
    "(**hint**: class method)"
   ]
  },
  {
   "cell_type": "code",
   "execution_count": 6,
   "metadata": {
    "id": "UcFng9OE-_IN"
   },
   "outputs": [
    {
     "name": "stdout",
     "output_type": "stream",
     "text": [
      "no_name\n",
      "Vishak\n"
     ]
    }
   ],
   "source": [
    "import numpy as np\n",
    "class Array(np.ndarray):\n",
    "    def __new__(cls, array, name=\"no_name\"):\n",
    "        obj = np.asarray(array).view(cls)\n",
    "        obj.name = name\n",
    "        return obj\n",
    "    def __array_finalize__(self, obj):\n",
    "        if obj is None: return\n",
    "        self.info = getattr(obj, 'name', \"no_name\")\n",
    "\n",
    "x =Array(np.arange(10)) # name is not given, so it takes default name\n",
    "print (x.name)\n",
    "y=Array(np.arange(5),\"Vishak\") # It takes user given name as array name\n",
    "print(y.name)\n"
   ]
  },
  {
   "cell_type": "markdown",
   "metadata": {
    "id": "cxKDNS99-_IN"
   },
   "source": [
    "#### 64. Consider a given vector, how to add 1 to each element indexed by a second vector (be careful with repeated indices)? (★★★) \n",
    "(**hint**: np.bincount | np.add.at)"
   ]
  },
  {
   "cell_type": "code",
   "execution_count": 52,
   "metadata": {},
   "outputs": [
    {
     "name": "stdout",
     "output_type": "stream",
     "text": [
      "[2 4 0 5 6]\n"
     ]
    }
   ],
   "source": [
    "Z = np.ones(5) # Array of ones \n",
    "I = np.random.randint(0,5,5) # Array to be added\n",
    "Z=Z + np.bincount(I, minlength=len(Z))\n",
    "print(X)\n"
   ]
  },
  {
   "cell_type": "markdown",
   "metadata": {
    "id": "XU8heDmb-_IO"
   },
   "source": [
    "#### 65. How to accumulate elements of a vector (X) to an array (F) based on an index list (I)? (★★★) \n",
    "(**hint**: np.bincount)"
   ]
  },
  {
   "cell_type": "code",
   "execution_count": 107,
   "metadata": {
    "id": "N3d7qDEe-_IO"
   },
   "outputs": [
    {
     "name": "stdout",
     "output_type": "stream",
     "text": [
      "[0. 7. 0. 6. 5. 0. 0. 0. 0. 3.]\n"
     ]
    }
   ],
   "source": [
    "#I is index,X is weights of bincount\n",
    "X = [1,2,3,4,5,6]\n",
    "I = [1,3,9,3,4,1]\n",
    "F = np.bincount(I,X)\n",
    "print(F)"
   ]
  },
  {
   "cell_type": "markdown",
   "metadata": {
    "id": "jJtSJ17u-_IQ"
   },
   "source": [
    "#### 66. Considering a (w,h,3) image of (dtype=ubyte), compute the number of unique colors (★★★) \n",
    "(**hint**: np.unique)"
   ]
  },
  {
   "cell_type": "code",
   "execution_count": 74,
   "metadata": {
    "id": "_WIfkX0g-_IS"
   },
   "outputs": [
    {
     "name": "stdout",
     "output_type": "stream",
     "text": [
      "8\n"
     ]
    }
   ],
   "source": [
    "w,h = 20,25 # Width,Height\n",
    "I = np.random.randint(0,2,(h,w,3),np.ubyte)\n",
    "F = I[...,0]*(256*256) + I[...,1]*256 +I[...,2] \n",
    "uniq = len(np.unique(F)) # For unique colors\n",
    "print(uniq)\n"
   ]
  },
  {
   "cell_type": "markdown",
   "metadata": {
    "id": "g4aGOvhX-_IU"
   },
   "source": [
    "#### 67. Considering a four dimensions array, how to get sum over the last two axis at once? (★★★) \n",
    "(**hint**: sum(axis=(-2,-1)))"
   ]
  },
  {
   "cell_type": "code",
   "execution_count": 58,
   "metadata": {
    "id": "KKzIbWrh-_IV"
   },
   "outputs": [
    {
     "name": "stdout",
     "output_type": "stream",
     "text": [
      "[[28 28]\n",
      " [21 12]]\n"
     ]
    }
   ],
   "source": [
    "A = np.random.randint(0,10,(2,2,2,2))\n",
    "sum = A.sum(axis=(-2,-1)) # for sum of last two axis\n",
    "print(sum)"
   ]
  },
  {
   "cell_type": "markdown",
   "metadata": {
    "id": "Tq2hYJhB-_IW"
   },
   "source": [
    "#### 68. Considering a one-dimensional vector D, how to compute means of subsets of D using a vector S of same size describing subset  indices? (★★★) \n",
    "(**hint**: np.bincount)"
   ]
  },
  {
   "cell_type": "code",
   "execution_count": 62,
   "metadata": {
    "id": "K1OAs-rF-_IX"
   },
   "outputs": [
    {
     "name": "stdout",
     "output_type": "stream",
     "text": [
      "[0.47845397 0.13214119 0.25000099 0.55068024 0.37210929 0.60413639\n",
      " 0.39104504 0.44556203 0.60553279 0.4922223 ]\n"
     ]
    }
   ],
   "source": [
    "D = np.random.uniform(0,1,50)\n",
    "S = np.random.randint(0,10,50)\n",
    "D_sums = np.bincount(S, weights=D)\n",
    "D_counts = np.bincount(S)\n",
    "D_means = D_sums / D_counts\n",
    "print(D_means)"
   ]
  },
  {
   "cell_type": "markdown",
   "metadata": {
    "id": "MSauCvDZ-_IX"
   },
   "source": [
    "#### 69. How to get the diagonal of a dot product? (★★★) \n",
    "(**hint**: np.diag)"
   ]
  },
  {
   "cell_type": "code",
   "execution_count": 60,
   "metadata": {
    "id": "G9DIdLBV-_IY"
   },
   "outputs": [
    {
     "name": "stdout",
     "output_type": "stream",
     "text": [
      "[0.86150023 1.33456673 1.33133161 1.08215441 1.54916105]\n"
     ]
    }
   ],
   "source": [
    "A = np.random.random((5,5))\n",
    "B = np.random.random((5,5))\n",
    "c=np.dot(A,B)\n",
    "print(np.diag(c))"
   ]
  },
  {
   "cell_type": "markdown",
   "metadata": {
    "id": "y1UbxfXT-_IY"
   },
   "source": [
    "#### 70. Consider the vector \\[1, 2, 3, 4, 5\\], how to build a new vector with 3 consecutive zeros interleaved between each value? (★★★) \n",
    "(**hint**: array\\[::4\\])"
   ]
  },
  {
   "cell_type": "code",
   "execution_count": 69,
   "metadata": {
    "id": "PD7rDS69-_IZ"
   },
   "outputs": [
    {
     "name": "stdout",
     "output_type": "stream",
     "text": [
      "[0. 0. 0. 0. 0. 0. 0. 0. 0. 0. 0. 0. 0. 0. 0. 0. 0.]\n",
      "[1. 0. 0. 0. 2. 0. 0. 0. 3. 0. 0. 0. 4. 0. 0. 0. 5.]\n"
     ]
    }
   ],
   "source": [
    "a=np.array([1,2,3,4,5])\n",
    "b=np.zeros(len(a)+(len(a)-1)*3)\n",
    "print(b)\n",
    "b[::4]=a # For inserting array values in specific index in another array\n",
    "print(b)"
   ]
  },
  {
   "cell_type": "markdown",
   "metadata": {
    "id": "Og3ZIlFy-_Ia"
   },
   "source": [
    "#### 71. Consider an array of dimension (5,5,3), how to mulitply it by an array with dimensions (5,5)? (★★★) \n",
    "(**hint**: array\\[:, :, None\\])"
   ]
  },
  {
   "cell_type": "code",
   "execution_count": 76,
   "metadata": {
    "id": "1BFN55Kx-_Ia"
   },
   "outputs": [
    {
     "name": "stdout",
     "output_type": "stream",
     "text": [
      "[[[2.65389538 1.1021682  2.67979154]\n",
      "  [3.25817263 2.96760761 1.9853509 ]\n",
      "  [0.76097217 3.33565793 2.67205344]\n",
      "  [0.4618687  3.53209957 3.91805587]\n",
      "  [4.85774331 0.33583491 1.41547154]]\n",
      "\n",
      " [[3.04810374 4.17610907 1.65141517]\n",
      "  [4.7389211  1.62934278 2.21109773]\n",
      "  [0.75228938 0.61572033 0.7881178 ]\n",
      "  [1.36086655 2.17509977 2.84305329]\n",
      "  [1.84834098 3.33280489 1.83744665]]\n",
      "\n",
      " [[1.25134583 3.32516895 2.23489497]\n",
      "  [0.89348876 0.75188927 1.72607091]\n",
      "  [1.40174746 4.73866243 2.20413645]\n",
      "  [4.52010564 4.80750308 2.11178119]\n",
      "  [1.1237381  2.55340941 1.59967647]]\n",
      "\n",
      " [[2.57860427 3.94854266 2.44796841]\n",
      "  [2.60693368 4.33750034 1.45224611]\n",
      "  [0.05784061 4.64018893 3.28511072]\n",
      "  [3.90868957 4.25675449 0.79576736]\n",
      "  [4.46795419 4.2157617  1.65092333]]\n",
      "\n",
      " [[4.8623979  0.67313946 3.84083314]\n",
      "  [2.63239754 0.57050539 1.36605545]\n",
      "  [1.71742667 2.96259567 2.2813044 ]\n",
      "  [4.3457843  3.62913231 4.81858657]\n",
      "  [2.91539597 3.43898402 1.69603055]]]\n"
     ]
    }
   ],
   "source": [
    "A = np.random.random((5,5,3))\n",
    "B = 5*np.ones((5,5))\n",
    "print(A * B[:,:,None])"
   ]
  },
  {
   "cell_type": "markdown",
   "metadata": {
    "id": "INk6yhTH-_Ib"
   },
   "source": [
    "#### 72. How to swap two rows of an array? (★★★) \n",
    "(**hint**: array\\[\\[\\]\\] = array\\[\\[\\]\\])"
   ]
  },
  {
   "cell_type": "code",
   "execution_count": 79,
   "metadata": {
    "id": "fRJVeoFU-_Ic"
   },
   "outputs": [
    {
     "name": "stdout",
     "output_type": "stream",
     "text": [
      "[[ 0  1  2  3  4]\n",
      " [ 5  6  7  8  9]\n",
      " [10 11 12 13 14]\n",
      " [15 16 17 18 19]]\n",
      "\n",
      "[[10 11 12 13 14]\n",
      " [ 5  6  7  8  9]\n",
      " [ 0  1  2  3  4]\n",
      " [15 16 17 18 19]]\n"
     ]
    }
   ],
   "source": [
    "A = np.arange(20).reshape(4,5)\n",
    "print(A)\n",
    "A[[0,2]] = A[[2,0]]\n",
    "print()\n",
    "print(A)"
   ]
  },
  {
   "cell_type": "markdown",
   "metadata": {
    "id": "QuWWIY3I-_Ih"
   },
   "source": [
    "#### 73. Consider a set of 10 triplets describing 10 triangles (with shared vertices), find the set of unique line segments composing all the  triangles (★★★) \n",
    "(**hint**: repeat, np.roll, np.sort, view, np.unique)"
   ]
  },
  {
   "cell_type": "code",
   "execution_count": 11,
   "metadata": {
    "id": "_RJ1JM5v-_Ii"
   },
   "outputs": [
    {
     "name": "stdout",
     "output_type": "stream",
     "text": [
      "[( 7, 58) ( 7, 98) ( 8, 33) ( 8, 56) ( 9, 26) ( 9, 39) (10, 32) (10, 54)\n",
      " (10, 65) (10, 85) (11, 52) (11, 63) (13, 25) (13, 65) (13, 75) (25, 65)\n",
      " (26, 39) (32, 54) (33, 56) (44, 73) (44, 80) (52, 63) (57, 59) (57, 94)\n",
      " (58, 98) (59, 94) (65, 75) (65, 85) (73, 80)]\n"
     ]
    }
   ],
   "source": [
    "import numpy as np\n",
    "faces = np.random.randint(0,100,(10,3)) # 10 triangle with their vertices\n",
    "faces1=faces.repeat(2,axis=1) # For creating the shared points\n",
    "F = np.roll(faces1,-1,axis=1) # aligning 10 triangle with shared vertices \n",
    "# np.roll(array,no. of roll/repetitions,axis=1(row))\n",
    "F = F.reshape(len(F)*3,2)\n",
    "F = np.sort(F,axis=1)\n",
    "G = F.view( dtype=[('p0',F.dtype),('p1',F.dtype)] ) # For converting two columns of array into co,ordinates\n",
    "G = np.unique(G)\n",
    "print(G)\n"
   ]
  },
  {
   "cell_type": "markdown",
   "metadata": {
    "id": "WKfvK8vb-_Im"
   },
   "source": [
    "#### 74. Given an array C that is a bincount, how to produce an array A such that np.bincount(A) == C? (★★★) \n",
    "(**hint**: np.repeat)"
   ]
  },
  {
   "cell_type": "code",
   "execution_count": 112,
   "metadata": {
    "id": "QAnOf4zk-_Ip"
   },
   "outputs": [
    {
     "name": "stdout",
     "output_type": "stream",
     "text": [
      "[1 1 2 3 4 4 6]\n"
     ]
    }
   ],
   "source": [
    "C = np.bincount([1,1,2,3,4,4,6])\n",
    "A = np.repeat(np.arange(len(C)),C)\n",
    "print(A)"
   ]
  },
  {
   "cell_type": "markdown",
   "metadata": {
    "id": "uS95sgAi-_Ip"
   },
   "source": [
    "#### 75. How to compute averages using a sliding window over an array? (★★★) \n",
    "(**hint**: np.cumsum)"
   ]
  },
  {
   "cell_type": "code",
   "execution_count": 111,
   "metadata": {
    "id": "O9gzCHKw-_Iq"
   },
   "outputs": [
    {
     "name": "stdout",
     "output_type": "stream",
     "text": [
      "[ 0  1  2  3  4  5  6  7  8  9 10 11 12 13 14 15 16 17 18 19]\n",
      "[ 1.  2.  3.  4.  5.  6.  7.  8.  9. 10. 11. 12. 13. 14. 15. 16. 17. 18.]\n"
     ]
    }
   ],
   "source": [
    "def moving_average(a, n=3) :\n",
    "    k = np.cumsum(a, dtype=float)\n",
    "    k[n:] = k[n:] - k[:-n]\n",
    "    return k[n - 1:] / n\n",
    "Z = np.arange(20)\n",
    "print(Z)\n",
    "print(moving_average(Z, n=3)) # It gives the moving avaerage of three consecutive numbers"
   ]
  },
  {
   "cell_type": "markdown",
   "metadata": {
    "id": "19rlaBSo-_Ir"
   },
   "source": [
    "#### 76. Consider a one-dimensional array Z, build a two-dimensional array whose first row is (Z\\[0\\],Z\\[1\\],Z\\[2\\]) and each subsequent row is  shifted by 1 (last row should be (Z\\[-3\\],Z\\[-2\\],Z\\[-1\\]) (★★★) \n",
    "(**hint**: from numpy.lib import stride_tricks)"
   ]
  },
  {
   "cell_type": "code",
   "execution_count": 27,
   "metadata": {
    "id": "l-u51oi8-_Is"
   },
   "outputs": [
    {
     "name": "stdout",
     "output_type": "stream",
     "text": [
      "[[ 0  1  2]\n",
      " [ 1  2  3]\n",
      " [ 2  3  4]\n",
      " [ 3  4  5]\n",
      " [ 4  5  6]\n",
      " [ 5  6  7]\n",
      " [ 6  7  8]\n",
      " [ 7  8  9]\n",
      " [ 8  9 10]\n",
      " [ 9 10 11]\n",
      " [10 11 12]\n",
      " [11 12 13]\n",
      " [12 13 14]\n",
      " [13 14 15]\n",
      " [14 15 16]\n",
      " [15 16 17]\n",
      " [16 17 18]\n",
      " [17 18 19]]\n"
     ]
    }
   ],
   "source": [
    "from numpy.lib import stride_tricks\n",
    "\n",
    "def rolling(a, window):\n",
    "    shape = (a.size - window + 1, window)\n",
    "    #print(a.size)\n",
    "    #print(shape)\n",
    "    strides = (a.itemsize, a.itemsize)\n",
    "    #print(a)\n",
    "    #print(strides)\n",
    "    return stride_tricks.as_strided(a, shape, strides)\n",
    "Z = rolling(np.arange(20), 3)\n",
    "print(Z)"
   ]
  },
  {
   "cell_type": "markdown",
   "metadata": {
    "id": "_UY8vVoF-_Is"
   },
   "source": [
    "#### 77. How to negate a boolean, or to change the sign of a float inplace? (★★★) \n",
    "(**hint**: np.logical_not, np.negative)"
   ]
  },
  {
   "cell_type": "code",
   "execution_count": 115,
   "metadata": {
    "id": "YxF34Xbn-_It"
   },
   "outputs": [
    {
     "name": "stdout",
     "output_type": "stream",
     "text": [
      "[1 1 1 1 0 0 1 1 0 0]\n",
      "[0 0 0 0 1 1 0 0 1 1]\n",
      "[-0.87035057 -0.61956396 -0.65833126  0.7307004   0.99644818  0.06050466\n",
      " -0.3038224   0.04152829  0.13058382 -0.84790743]\n",
      "[ 0.87035057  0.61956396  0.65833126 -0.7307004  -0.99644818 -0.06050466\n",
      "  0.3038224  -0.04152829 -0.13058382  0.84790743]\n"
     ]
    }
   ],
   "source": [
    "x = np.random.randint(0,2,10)\n",
    "print(x)\n",
    "print(np.logical_not(x, out=x)) # It returns contrast boolean to the original array\n",
    "\n",
    "y = np.random.uniform(-1.0,1.0,10)\n",
    "print(y)\n",
    "print(np.negative(y, out=y)) # It returns the negative numbers for positive elements in array and vice verse"
   ]
  },
  {
   "cell_type": "markdown",
   "metadata": {
    "id": "tL2qj_pj-_Iu"
   },
   "source": [
    "#### 78. Consider 2 sets of points P0,P1 describing lines (2d) and a point p, how to compute distance from p to each line i  (P0\\[i\\],P1\\[i\\])? (★★★)"
   ]
  },
  {
   "cell_type": "code",
   "execution_count": 34,
   "metadata": {
    "id": "EfDMsBnL-_Iu"
   },
   "outputs": [
    {
     "name": "stdout",
     "output_type": "stream",
     "text": [
      "[ 14.18786022   3.74596967  11.37310603 113.67970359   6.25283445\n",
      "  42.15183168  26.84808379 123.70617338  45.89575495  69.75686937]\n"
     ]
    }
   ],
   "source": [
    "def distance(P0, P1, p):\n",
    "    T = P1 - P0\n",
    "    L = np.sqrt(T**2).sum(axis=1)\n",
    "    U = -((P0[:,0]-p[...,0])*T[:,0] + (P0[:,1]-p[...,1])*T[:,1]) / L\n",
    "    U = U.reshape(len(U),1)\n",
    "    D = P0 + U*T - p\n",
    "    return np.sqrt((D**2).sum(axis=1))\n",
    "\n",
    "P0 = np.random.uniform(-10,10,(10,2))\n",
    "P1 = np.random.uniform(-10,10,(10,2))\n",
    "p  = np.random.uniform(-10,10,( 1,2))\n",
    "print(distance(P0, P1, p))\n"
   ]
  },
  {
   "cell_type": "markdown",
   "metadata": {
    "id": "aIQ6GvdH-_Iv"
   },
   "source": [
    "#### 79. Consider 2 sets of points P0,P1 describing lines (2d) and a set of points P, how to compute distance from each point j (P\\[j\\]) to each line i (P0\\[i\\],P1\\[i\\])? (★★★)"
   ]
  },
  {
   "cell_type": "code",
   "execution_count": 33,
   "metadata": {
    "id": "vGELltic-_Iv"
   },
   "outputs": [
    {
     "name": "stdout",
     "output_type": "stream",
     "text": [
      "[[ 0.96492028  9.72380967  0.38723868  6.77735513  7.65998161  5.41884819\n",
      "   7.43235988  8.41536186 12.27562906  5.64482243]\n",
      " [ 6.9190535   8.6722984   6.38975864  9.11022195  6.98671317  7.39461016\n",
      "   6.96954005 12.13202045  8.57658254  1.36401242]\n",
      " [ 2.84227747  4.22095847  3.22813175  4.04867391  2.41331863  2.34440169\n",
      "   2.33408926  7.16822107  5.3994522   1.28205218]\n",
      " [ 7.61494649  0.97286276  6.66126599  4.76499881  3.25838691  6.15954192\n",
      "   3.59553507  2.65275422  4.12226846 10.66058411]\n",
      " [ 0.07919276  0.06316215  1.27532844  0.31151988  1.92929455  2.05700386\n",
      "   2.03563538  3.09924207  1.91449113  2.72271689]\n",
      " [ 9.87770616  2.173545   10.02209548  3.81148968  0.32845384  4.94647116\n",
      "   0.78915419  2.78031422  8.56088049 14.46768197]\n",
      " [ 4.29965606  6.28707998  1.53577893  6.63380869  8.23678825  8.4404032\n",
      "   8.38174135  2.79528919  3.15856802  4.78941673]\n",
      " [ 0.95325249  0.96094431  2.65501715  0.38627924  2.74254563  2.22594406\n",
      "   2.80104488  3.40903897  0.48311869  1.20953809]\n",
      " [ 3.79121935 12.2273125   1.97115422  9.89617086 10.26352378  8.50353958\n",
      "  10.08816393 11.58414051 13.83510349  3.56790268]\n",
      " [ 0.05307362  6.40224543  3.23164372  4.4905809   8.09274623  6.52876733\n",
      "   8.0942199   0.22745768  5.14113626  0.06227302]]\n"
     ]
    }
   ],
   "source": [
    "P0 = np.random.uniform(-10, 10, (10,2))\n",
    "P1 = np.random.uniform(-10,10,(10,2))\n",
    "p = np.random.uniform(-10, 10, (10,2))\n",
    "print(np.array([distance(P0,P1,p_i) for p_i in p])) # Calling the previous problem function\n"
   ]
  },
  {
   "cell_type": "markdown",
   "metadata": {
    "id": "S-W9vIzy-_Ix"
   },
   "source": [
    "#### 80. Consider an arbitrary array, write a function that extract a subpart with a fixed shape and centered on a given element (pad with a `fill` value when necessary) (★★★) \n",
    "(**hint**: minimum, maximum)"
   ]
  },
  {
   "cell_type": "code",
   "execution_count": 48,
   "metadata": {
    "id": "SthW49kG-_Iy"
   },
   "outputs": [
    {
     "name": "stdout",
     "output_type": "stream",
     "text": [
      "[[3 7 8 1 7 5 9 2 2 0]\n",
      " [4 3 8 9 2 7 1 4 2 9]\n",
      " [0 1 2 0 0 5 0 5 3 9]\n",
      " [6 7 5 4 7 1 4 4 0 2]\n",
      " [8 9 2 8 3 1 2 4 4 7]\n",
      " [8 8 0 4 4 0 9 8 2 1]\n",
      " [3 6 0 1 9 5 0 0 7 4]\n",
      " [9 5 0 2 0 0 9 5 4 3]\n",
      " [8 9 8 3 6 7 4 3 0 9]\n",
      " [3 8 3 6 6 0 5 4 2 0]]\n",
      "[[0 0 0 0 0]\n",
      " [0 3 7 8 1]\n",
      " [0 4 3 8 9]\n",
      " [0 0 1 2 0]\n",
      " [0 6 7 5 4]]\n"
     ]
    },
    {
     "name": "stderr",
     "output_type": "stream",
     "text": [
      "C:\\Users\\Admin PC\\AppData\\Local\\Temp\\ipykernel_12132\\1159162857.py:23: FutureWarning: Using a non-tuple sequence for multidimensional indexing is deprecated; use `arr[tuple(seq)]` instead of `arr[seq]`. In the future this will be interpreted as an array index, `arr[np.array(seq)]`, which will result either in an error or a different result.\n",
      "  R[r] = Z[z]\n"
     ]
    }
   ],
   "source": [
    "Z = np.random.randint(0,10,(10,10))\n",
    "shape = (5,5)\n",
    "fill  = 0\n",
    "position = (1,1)\n",
    "\n",
    "R = np.ones(shape, dtype=Z.dtype)*fill\n",
    "P  = np.array(list(position)).astype(int)\n",
    "Rs = np.array(list(R.shape)).astype(int)\n",
    "Zs = np.array(list(Z.shape)).astype(int)\n",
    "\n",
    "R_start = np.zeros((len(shape),)).astype(int)\n",
    "R_stop  = np.array(list(shape)).astype(int)\n",
    "Z_start = (P-Rs//2)\n",
    "Z_stop  = (P+Rs//2)+Rs%2\n",
    "\n",
    "R_start = (R_start - np.minimum(Z_start,0)).tolist()\n",
    "Z_start = (np.maximum(Z_start,0)).tolist()\n",
    "R_stop = np.maximum(R_start, (R_stop - np.maximum(Z_stop-Zs,0))).tolist()\n",
    "Z_stop = (np.minimum(Z_stop,Zs)).tolist()\n",
    "\n",
    "r = [slice(start,stop) for start,stop in zip(R_start,R_stop)]\n",
    "z = [slice(start,stop) for start,stop in zip(Z_start,Z_stop)]\n",
    "R[r] = Z[z]\n",
    "print(Z)\n",
    "print(R)"
   ]
  },
  {
   "cell_type": "markdown",
   "metadata": {
    "id": "mm_GFqip-_Iy"
   },
   "source": [
    "#### 81. Consider an array Z = \\[1,2,3,4,5,6,7,8,9,10,11,12,13,14\\], how to generate an array R = \\[\\[1,2,3,4\\], \\[2,3,4,5\\], \\[3,4,5,6\\], ..., \\[11,12,13,14\\]\\]? (★★★) \n",
    "(**hint**: stride\\_tricks.as\\_strided)"
   ]
  },
  {
   "cell_type": "code",
   "execution_count": 51,
   "metadata": {
    "id": "utAjLYCU-_Iy"
   },
   "outputs": [
    {
     "name": "stdout",
     "output_type": "stream",
     "text": [
      "[[ 1  2  3  4]\n",
      " [ 2  3  4  5]\n",
      " [ 3  4  5  6]\n",
      " [ 4  5  6  7]\n",
      " [ 5  6  7  8]\n",
      " [ 6  7  8  9]\n",
      " [ 7  8  9 10]\n",
      " [ 8  9 10 11]\n",
      " [ 9 10 11 12]\n",
      " [10 11 12 13]\n",
      " [11 12 13 14]]\n"
     ]
    }
   ],
   "source": [
    "x= np.arange(1,15,dtype=np.int32)\n",
    "y= stride_tricks.as_strided(x,(11,4),(4,4)) # stride_tricks.as_strided(array,shape to get,strides by itemsize)\n",
    "print(y)"
   ]
  },
  {
   "cell_type": "markdown",
   "metadata": {
    "id": "TEErzQYp-_Iz"
   },
   "source": [
    "#### 82. Compute a matrix rank (★★★) \n",
    "(**hint**: np.linalg.svd) (suggestion: np.linalg.svd)"
   ]
  },
  {
   "cell_type": "code",
   "execution_count": 63,
   "metadata": {
    "id": "qG0MX1IA-_Iz"
   },
   "outputs": [
    {
     "name": "stdout",
     "output_type": "stream",
     "text": [
      "10\n"
     ]
    }
   ],
   "source": [
    "X= np.random.random((10,10))\n",
    "#print(X)\n",
    "U, S, VT = np.linalg.svd(X) #Singular value decomposition\n",
    "rank = np.sum(S > 1e-10) \n",
    "print(rank)"
   ]
  },
  {
   "cell_type": "markdown",
   "metadata": {
    "id": "QaEQZAs_-_Iz"
   },
   "source": [
    "#### 83. How to find the most frequent value in an array? \n",
    "(**hint**: np.bincount, argmax)"
   ]
  },
  {
   "cell_type": "code",
   "execution_count": 65,
   "metadata": {
    "id": "Ldoh_JNr-_I0"
   },
   "outputs": [
    {
     "name": "stdout",
     "output_type": "stream",
     "text": [
      "[ 8  6  7 19 13  0  8  7 15  7 16 14  8 13 16  9  1 17 11  6 12 13  6 16\n",
      "  8 13 10 19 11  2]\n",
      "8\n"
     ]
    }
   ],
   "source": [
    "x = np.random.randint(0,20,30)\n",
    "print(x)\n",
    "print(np.bincount(x).argmax()) # Max count of the array"
   ]
  },
  {
   "cell_type": "markdown",
   "metadata": {
    "id": "fX1iIiTH-_I0"
   },
   "source": [
    "#### 84. Extract all the contiguous 3x3 blocks from a random 10x10 matrix (★★★) \n",
    "(**hint**: stride\\_tricks.as\\_strided)"
   ]
  },
  {
   "cell_type": "code",
   "execution_count": 70,
   "metadata": {
    "id": "BMt_Np3D-_I0"
   },
   "outputs": [
    {
     "name": "stdout",
     "output_type": "stream",
     "text": [
      "[[3 2 2 3 2 2 4 0 2 3]\n",
      " [3 0 2 0 2 2 3 0 4 3]\n",
      " [2 0 0 4 2 4 0 0 3 1]\n",
      " [4 1 4 1 4 2 1 4 3 2]\n",
      " [1 4 0 0 1 4 4 2 0 2]\n",
      " [4 0 0 1 1 2 3 3 2 2]\n",
      " [0 1 2 1 4 0 0 3 1 0]\n",
      " [1 2 3 4 4 3 3 3 2 4]\n",
      " [2 3 2 1 2 2 1 2 3 1]\n",
      " [1 2 0 2 0 4 1 3 0 0]]\n",
      "(40, 4)\n",
      "[[[[3 2 2]\n",
      "   [3 0 2]\n",
      "   [2 0 0]]\n",
      "\n",
      "  [[2 2 3]\n",
      "   [0 2 0]\n",
      "   [0 0 4]]\n",
      "\n",
      "  [[2 3 2]\n",
      "   [2 0 2]\n",
      "   [0 4 2]]\n",
      "\n",
      "  [[3 2 2]\n",
      "   [0 2 2]\n",
      "   [4 2 4]]\n",
      "\n",
      "  [[2 2 4]\n",
      "   [2 2 3]\n",
      "   [2 4 0]]\n",
      "\n",
      "  [[2 4 0]\n",
      "   [2 3 0]\n",
      "   [4 0 0]]\n",
      "\n",
      "  [[4 0 2]\n",
      "   [3 0 4]\n",
      "   [0 0 3]]\n",
      "\n",
      "  [[0 2 3]\n",
      "   [0 4 3]\n",
      "   [0 3 1]]]\n",
      "\n",
      "\n",
      " [[[3 0 2]\n",
      "   [2 0 0]\n",
      "   [4 1 4]]\n",
      "\n",
      "  [[0 2 0]\n",
      "   [0 0 4]\n",
      "   [1 4 1]]\n",
      "\n",
      "  [[2 0 2]\n",
      "   [0 4 2]\n",
      "   [4 1 4]]\n",
      "\n",
      "  [[0 2 2]\n",
      "   [4 2 4]\n",
      "   [1 4 2]]\n",
      "\n",
      "  [[2 2 3]\n",
      "   [2 4 0]\n",
      "   [4 2 1]]\n",
      "\n",
      "  [[2 3 0]\n",
      "   [4 0 0]\n",
      "   [2 1 4]]\n",
      "\n",
      "  [[3 0 4]\n",
      "   [0 0 3]\n",
      "   [1 4 3]]\n",
      "\n",
      "  [[0 4 3]\n",
      "   [0 3 1]\n",
      "   [4 3 2]]]\n",
      "\n",
      "\n",
      " [[[2 0 0]\n",
      "   [4 1 4]\n",
      "   [1 4 0]]\n",
      "\n",
      "  [[0 0 4]\n",
      "   [1 4 1]\n",
      "   [4 0 0]]\n",
      "\n",
      "  [[0 4 2]\n",
      "   [4 1 4]\n",
      "   [0 0 1]]\n",
      "\n",
      "  [[4 2 4]\n",
      "   [1 4 2]\n",
      "   [0 1 4]]\n",
      "\n",
      "  [[2 4 0]\n",
      "   [4 2 1]\n",
      "   [1 4 4]]\n",
      "\n",
      "  [[4 0 0]\n",
      "   [2 1 4]\n",
      "   [4 4 2]]\n",
      "\n",
      "  [[0 0 3]\n",
      "   [1 4 3]\n",
      "   [4 2 0]]\n",
      "\n",
      "  [[0 3 1]\n",
      "   [4 3 2]\n",
      "   [2 0 2]]]\n",
      "\n",
      "\n",
      " [[[4 1 4]\n",
      "   [1 4 0]\n",
      "   [4 0 0]]\n",
      "\n",
      "  [[1 4 1]\n",
      "   [4 0 0]\n",
      "   [0 0 1]]\n",
      "\n",
      "  [[4 1 4]\n",
      "   [0 0 1]\n",
      "   [0 1 1]]\n",
      "\n",
      "  [[1 4 2]\n",
      "   [0 1 4]\n",
      "   [1 1 2]]\n",
      "\n",
      "  [[4 2 1]\n",
      "   [1 4 4]\n",
      "   [1 2 3]]\n",
      "\n",
      "  [[2 1 4]\n",
      "   [4 4 2]\n",
      "   [2 3 3]]\n",
      "\n",
      "  [[1 4 3]\n",
      "   [4 2 0]\n",
      "   [3 3 2]]\n",
      "\n",
      "  [[4 3 2]\n",
      "   [2 0 2]\n",
      "   [3 2 2]]]\n",
      "\n",
      "\n",
      " [[[1 4 0]\n",
      "   [4 0 0]\n",
      "   [0 1 2]]\n",
      "\n",
      "  [[4 0 0]\n",
      "   [0 0 1]\n",
      "   [1 2 1]]\n",
      "\n",
      "  [[0 0 1]\n",
      "   [0 1 1]\n",
      "   [2 1 4]]\n",
      "\n",
      "  [[0 1 4]\n",
      "   [1 1 2]\n",
      "   [1 4 0]]\n",
      "\n",
      "  [[1 4 4]\n",
      "   [1 2 3]\n",
      "   [4 0 0]]\n",
      "\n",
      "  [[4 4 2]\n",
      "   [2 3 3]\n",
      "   [0 0 3]]\n",
      "\n",
      "  [[4 2 0]\n",
      "   [3 3 2]\n",
      "   [0 3 1]]\n",
      "\n",
      "  [[2 0 2]\n",
      "   [3 2 2]\n",
      "   [3 1 0]]]\n",
      "\n",
      "\n",
      " [[[4 0 0]\n",
      "   [0 1 2]\n",
      "   [1 2 3]]\n",
      "\n",
      "  [[0 0 1]\n",
      "   [1 2 1]\n",
      "   [2 3 4]]\n",
      "\n",
      "  [[0 1 1]\n",
      "   [2 1 4]\n",
      "   [3 4 4]]\n",
      "\n",
      "  [[1 1 2]\n",
      "   [1 4 0]\n",
      "   [4 4 3]]\n",
      "\n",
      "  [[1 2 3]\n",
      "   [4 0 0]\n",
      "   [4 3 3]]\n",
      "\n",
      "  [[2 3 3]\n",
      "   [0 0 3]\n",
      "   [3 3 3]]\n",
      "\n",
      "  [[3 3 2]\n",
      "   [0 3 1]\n",
      "   [3 3 2]]\n",
      "\n",
      "  [[3 2 2]\n",
      "   [3 1 0]\n",
      "   [3 2 4]]]\n",
      "\n",
      "\n",
      " [[[0 1 2]\n",
      "   [1 2 3]\n",
      "   [2 3 2]]\n",
      "\n",
      "  [[1 2 1]\n",
      "   [2 3 4]\n",
      "   [3 2 1]]\n",
      "\n",
      "  [[2 1 4]\n",
      "   [3 4 4]\n",
      "   [2 1 2]]\n",
      "\n",
      "  [[1 4 0]\n",
      "   [4 4 3]\n",
      "   [1 2 2]]\n",
      "\n",
      "  [[4 0 0]\n",
      "   [4 3 3]\n",
      "   [2 2 1]]\n",
      "\n",
      "  [[0 0 3]\n",
      "   [3 3 3]\n",
      "   [2 1 2]]\n",
      "\n",
      "  [[0 3 1]\n",
      "   [3 3 2]\n",
      "   [1 2 3]]\n",
      "\n",
      "  [[3 1 0]\n",
      "   [3 2 4]\n",
      "   [2 3 1]]]\n",
      "\n",
      "\n",
      " [[[1 2 3]\n",
      "   [2 3 2]\n",
      "   [1 2 0]]\n",
      "\n",
      "  [[2 3 4]\n",
      "   [3 2 1]\n",
      "   [2 0 2]]\n",
      "\n",
      "  [[3 4 4]\n",
      "   [2 1 2]\n",
      "   [0 2 0]]\n",
      "\n",
      "  [[4 4 3]\n",
      "   [1 2 2]\n",
      "   [2 0 4]]\n",
      "\n",
      "  [[4 3 3]\n",
      "   [2 2 1]\n",
      "   [0 4 1]]\n",
      "\n",
      "  [[3 3 3]\n",
      "   [2 1 2]\n",
      "   [4 1 3]]\n",
      "\n",
      "  [[3 3 2]\n",
      "   [1 2 3]\n",
      "   [1 3 0]]\n",
      "\n",
      "  [[3 2 4]\n",
      "   [2 3 1]\n",
      "   [3 0 0]]]]\n"
     ]
    }
   ],
   "source": [
    "Z = np.random.randint(0,5,(10,10))\n",
    "print(Z)\n",
    "n = 3\n",
    "i = 1 + (Z.shape[0]-3)\n",
    "j = 1 + (Z.shape[1]-3)\n",
    "print(Z.strides)\n",
    "C = stride_tricks.as_strided(Z, shape=(i, j, n, n), strides=Z.strides + Z.strides)\n",
    "print(C)\n"
   ]
  },
  {
   "cell_type": "markdown",
   "metadata": {
    "id": "CbBz1zZH-_I1"
   },
   "source": [
    "#### 85. Create a 2D array subclass such that Z\\[i,j\\] == Z\\[j,i\\] (★★★) \n",
    "(**hint**: class method)"
   ]
  },
  {
   "cell_type": "code",
   "execution_count": 74,
   "metadata": {
    "id": "bvTXFITM-_I1"
   },
   "outputs": [
    {
     "name": "stdout",
     "output_type": "stream",
     "text": [
      "[[ 2 12  8 15 11]\n",
      " [12  1  6  8 10]\n",
      " [ 8  6  1 10  7]\n",
      " [15  8 10  6  5]\n",
      " [11 10  7  5  2]]\n",
      "\n",
      "[[  2  12   8  15  11]\n",
      " [ 12   1   6   8  10]\n",
      " [  8   6   1 100   7]\n",
      " [ 15   8 100   6   5]\n",
      " [ 11  10   7   5   2]]\n"
     ]
    }
   ],
   "source": [
    "class Symetric(np.ndarray):\n",
    "    def __setitem__(self, index, value):\n",
    "        i,j = index\n",
    "        super(Symetric, self).__setitem__((i,j), value)\n",
    "        super(Symetric, self).__setitem__((j,i), value)\n",
    "\n",
    "def symetric(Z):\n",
    "    return np.asarray(Z + Z.T - np.diag(Z.diagonal())).view(Symetric) \n",
    "\n",
    "S = symetric(np.random.randint(0,10,(5,5)))\n",
    "print(S)\n",
    "S[3,2] = 100\n",
    "print()\n",
    "print(S) # Here element of (3,2) is changed and it is reflected in (2,3) also\n"
   ]
  },
  {
   "cell_type": "markdown",
   "metadata": {
    "id": "jseSHSL2-_I1"
   },
   "source": [
    "#### 86. Consider a set of p matrices wich shape (n,n) and a set of p vectors with shape (n,1). How to compute the sum of of the p matrix products at once? (result has shape (n,1)) (★★★) \n",
    "(**hint**: np.tensordot)"
   ]
  },
  {
   "cell_type": "code",
   "execution_count": 75,
   "metadata": {},
   "outputs": [
    {
     "name": "stdout",
     "output_type": "stream",
     "text": [
      "[[[1. 1. 1. ... 1. 1. 1.]\n",
      "  [1. 1. 1. ... 1. 1. 1.]\n",
      "  [1. 1. 1. ... 1. 1. 1.]\n",
      "  ...\n",
      "  [1. 1. 1. ... 1. 1. 1.]\n",
      "  [1. 1. 1. ... 1. 1. 1.]\n",
      "  [1. 1. 1. ... 1. 1. 1.]]\n",
      "\n",
      " [[1. 1. 1. ... 1. 1. 1.]\n",
      "  [1. 1. 1. ... 1. 1. 1.]\n",
      "  [1. 1. 1. ... 1. 1. 1.]\n",
      "  ...\n",
      "  [1. 1. 1. ... 1. 1. 1.]\n",
      "  [1. 1. 1. ... 1. 1. 1.]\n",
      "  [1. 1. 1. ... 1. 1. 1.]]\n",
      "\n",
      " [[1. 1. 1. ... 1. 1. 1.]\n",
      "  [1. 1. 1. ... 1. 1. 1.]\n",
      "  [1. 1. 1. ... 1. 1. 1.]\n",
      "  ...\n",
      "  [1. 1. 1. ... 1. 1. 1.]\n",
      "  [1. 1. 1. ... 1. 1. 1.]\n",
      "  [1. 1. 1. ... 1. 1. 1.]]\n",
      "\n",
      " ...\n",
      "\n",
      " [[1. 1. 1. ... 1. 1. 1.]\n",
      "  [1. 1. 1. ... 1. 1. 1.]\n",
      "  [1. 1. 1. ... 1. 1. 1.]\n",
      "  ...\n",
      "  [1. 1. 1. ... 1. 1. 1.]\n",
      "  [1. 1. 1. ... 1. 1. 1.]\n",
      "  [1. 1. 1. ... 1. 1. 1.]]\n",
      "\n",
      " [[1. 1. 1. ... 1. 1. 1.]\n",
      "  [1. 1. 1. ... 1. 1. 1.]\n",
      "  [1. 1. 1. ... 1. 1. 1.]\n",
      "  ...\n",
      "  [1. 1. 1. ... 1. 1. 1.]\n",
      "  [1. 1. 1. ... 1. 1. 1.]\n",
      "  [1. 1. 1. ... 1. 1. 1.]]\n",
      "\n",
      " [[1. 1. 1. ... 1. 1. 1.]\n",
      "  [1. 1. 1. ... 1. 1. 1.]\n",
      "  [1. 1. 1. ... 1. 1. 1.]\n",
      "  ...\n",
      "  [1. 1. 1. ... 1. 1. 1.]\n",
      "  [1. 1. 1. ... 1. 1. 1.]\n",
      "  [1. 1. 1. ... 1. 1. 1.]]]\n",
      "\n",
      "[[[1.]\n",
      "  [1.]\n",
      "  [1.]\n",
      "  [1.]\n",
      "  [1.]\n",
      "  [1.]\n",
      "  [1.]\n",
      "  [1.]\n",
      "  [1.]\n",
      "  [1.]\n",
      "  [1.]\n",
      "  [1.]\n",
      "  [1.]\n",
      "  [1.]\n",
      "  [1.]\n",
      "  [1.]\n",
      "  [1.]\n",
      "  [1.]\n",
      "  [1.]\n",
      "  [1.]]\n",
      "\n",
      " [[1.]\n",
      "  [1.]\n",
      "  [1.]\n",
      "  [1.]\n",
      "  [1.]\n",
      "  [1.]\n",
      "  [1.]\n",
      "  [1.]\n",
      "  [1.]\n",
      "  [1.]\n",
      "  [1.]\n",
      "  [1.]\n",
      "  [1.]\n",
      "  [1.]\n",
      "  [1.]\n",
      "  [1.]\n",
      "  [1.]\n",
      "  [1.]\n",
      "  [1.]\n",
      "  [1.]]\n",
      "\n",
      " [[1.]\n",
      "  [1.]\n",
      "  [1.]\n",
      "  [1.]\n",
      "  [1.]\n",
      "  [1.]\n",
      "  [1.]\n",
      "  [1.]\n",
      "  [1.]\n",
      "  [1.]\n",
      "  [1.]\n",
      "  [1.]\n",
      "  [1.]\n",
      "  [1.]\n",
      "  [1.]\n",
      "  [1.]\n",
      "  [1.]\n",
      "  [1.]\n",
      "  [1.]\n",
      "  [1.]]\n",
      "\n",
      " [[1.]\n",
      "  [1.]\n",
      "  [1.]\n",
      "  [1.]\n",
      "  [1.]\n",
      "  [1.]\n",
      "  [1.]\n",
      "  [1.]\n",
      "  [1.]\n",
      "  [1.]\n",
      "  [1.]\n",
      "  [1.]\n",
      "  [1.]\n",
      "  [1.]\n",
      "  [1.]\n",
      "  [1.]\n",
      "  [1.]\n",
      "  [1.]\n",
      "  [1.]\n",
      "  [1.]]\n",
      "\n",
      " [[1.]\n",
      "  [1.]\n",
      "  [1.]\n",
      "  [1.]\n",
      "  [1.]\n",
      "  [1.]\n",
      "  [1.]\n",
      "  [1.]\n",
      "  [1.]\n",
      "  [1.]\n",
      "  [1.]\n",
      "  [1.]\n",
      "  [1.]\n",
      "  [1.]\n",
      "  [1.]\n",
      "  [1.]\n",
      "  [1.]\n",
      "  [1.]\n",
      "  [1.]\n",
      "  [1.]]\n",
      "\n",
      " [[1.]\n",
      "  [1.]\n",
      "  [1.]\n",
      "  [1.]\n",
      "  [1.]\n",
      "  [1.]\n",
      "  [1.]\n",
      "  [1.]\n",
      "  [1.]\n",
      "  [1.]\n",
      "  [1.]\n",
      "  [1.]\n",
      "  [1.]\n",
      "  [1.]\n",
      "  [1.]\n",
      "  [1.]\n",
      "  [1.]\n",
      "  [1.]\n",
      "  [1.]\n",
      "  [1.]]\n",
      "\n",
      " [[1.]\n",
      "  [1.]\n",
      "  [1.]\n",
      "  [1.]\n",
      "  [1.]\n",
      "  [1.]\n",
      "  [1.]\n",
      "  [1.]\n",
      "  [1.]\n",
      "  [1.]\n",
      "  [1.]\n",
      "  [1.]\n",
      "  [1.]\n",
      "  [1.]\n",
      "  [1.]\n",
      "  [1.]\n",
      "  [1.]\n",
      "  [1.]\n",
      "  [1.]\n",
      "  [1.]]\n",
      "\n",
      " [[1.]\n",
      "  [1.]\n",
      "  [1.]\n",
      "  [1.]\n",
      "  [1.]\n",
      "  [1.]\n",
      "  [1.]\n",
      "  [1.]\n",
      "  [1.]\n",
      "  [1.]\n",
      "  [1.]\n",
      "  [1.]\n",
      "  [1.]\n",
      "  [1.]\n",
      "  [1.]\n",
      "  [1.]\n",
      "  [1.]\n",
      "  [1.]\n",
      "  [1.]\n",
      "  [1.]]\n",
      "\n",
      " [[1.]\n",
      "  [1.]\n",
      "  [1.]\n",
      "  [1.]\n",
      "  [1.]\n",
      "  [1.]\n",
      "  [1.]\n",
      "  [1.]\n",
      "  [1.]\n",
      "  [1.]\n",
      "  [1.]\n",
      "  [1.]\n",
      "  [1.]\n",
      "  [1.]\n",
      "  [1.]\n",
      "  [1.]\n",
      "  [1.]\n",
      "  [1.]\n",
      "  [1.]\n",
      "  [1.]]\n",
      "\n",
      " [[1.]\n",
      "  [1.]\n",
      "  [1.]\n",
      "  [1.]\n",
      "  [1.]\n",
      "  [1.]\n",
      "  [1.]\n",
      "  [1.]\n",
      "  [1.]\n",
      "  [1.]\n",
      "  [1.]\n",
      "  [1.]\n",
      "  [1.]\n",
      "  [1.]\n",
      "  [1.]\n",
      "  [1.]\n",
      "  [1.]\n",
      "  [1.]\n",
      "  [1.]\n",
      "  [1.]]]\n",
      "\n",
      "[[200.]\n",
      " [200.]\n",
      " [200.]\n",
      " [200.]\n",
      " [200.]\n",
      " [200.]\n",
      " [200.]\n",
      " [200.]\n",
      " [200.]\n",
      " [200.]\n",
      " [200.]\n",
      " [200.]\n",
      " [200.]\n",
      " [200.]\n",
      " [200.]\n",
      " [200.]\n",
      " [200.]\n",
      " [200.]\n",
      " [200.]\n",
      " [200.]]\n"
     ]
    }
   ],
   "source": [
    "p, n = 10, 20\n",
    "M = np.ones((p,n,n))\n",
    "V = np.ones((p,n,1))\n",
    "print(M)\n",
    "print()\n",
    "print(V)\n",
    "print()\n",
    "S = np.tensordot(M, V, axes=[[0, 2], [0, 1]])\n",
    "print(S)\n",
    "\n",
    "# It works, because:\n",
    "# M is (p,n,n)\n",
    "# V is (p,n,1)\n",
    "# Thus, summing over the paired axes 0 and 0 (of M and V independently),\n",
    "# and 2 and 1, to remain with a (n,1) vector."
   ]
  },
  {
   "cell_type": "markdown",
   "metadata": {
    "id": "mdlSj2T7-_I2"
   },
   "source": [
    "#### 87. Consider a 16x16 array, how to get the block-sum (block size is 4x4)? (★★★) \n",
    "(**hint**: np.add.reduceat)"
   ]
  },
  {
   "cell_type": "code",
   "execution_count": 81,
   "metadata": {
    "id": "WjSYzmI5-_I2"
   },
   "outputs": [
    {
     "name": "stdout",
     "output_type": "stream",
     "text": [
      "[[1. 1. 1. 1. 1. 1. 1. 1. 1. 1. 1. 1. 1. 1. 1. 1.]\n",
      " [1. 1. 1. 1. 1. 1. 1. 1. 1. 1. 1. 1. 1. 1. 1. 1.]\n",
      " [1. 1. 1. 1. 1. 1. 1. 1. 1. 1. 1. 1. 1. 1. 1. 1.]\n",
      " [1. 1. 1. 1. 1. 1. 1. 1. 1. 1. 1. 1. 1. 1. 1. 1.]\n",
      " [1. 1. 1. 1. 1. 1. 1. 1. 1. 1. 1. 1. 1. 1. 1. 1.]\n",
      " [1. 1. 1. 1. 1. 1. 1. 1. 1. 1. 1. 1. 1. 1. 1. 1.]\n",
      " [1. 1. 1. 1. 1. 1. 1. 1. 1. 1. 1. 1. 1. 1. 1. 1.]\n",
      " [1. 1. 1. 1. 1. 1. 1. 1. 1. 1. 1. 1. 1. 1. 1. 1.]\n",
      " [1. 1. 1. 1. 1. 1. 1. 1. 1. 1. 1. 1. 1. 1. 1. 1.]\n",
      " [1. 1. 1. 1. 1. 1. 1. 1. 1. 1. 1. 1. 1. 1. 1. 1.]\n",
      " [1. 1. 1. 1. 1. 1. 1. 1. 1. 1. 1. 1. 1. 1. 1. 1.]\n",
      " [1. 1. 1. 1. 1. 1. 1. 1. 1. 1. 1. 1. 1. 1. 1. 1.]\n",
      " [1. 1. 1. 1. 1. 1. 1. 1. 1. 1. 1. 1. 1. 1. 1. 1.]\n",
      " [1. 1. 1. 1. 1. 1. 1. 1. 1. 1. 1. 1. 1. 1. 1. 1.]\n",
      " [1. 1. 1. 1. 1. 1. 1. 1. 1. 1. 1. 1. 1. 1. 1. 1.]\n",
      " [1. 1. 1. 1. 1. 1. 1. 1. 1. 1. 1. 1. 1. 1. 1. 1.]]\n",
      "[[16. 16. 16. 16.]\n",
      " [16. 16. 16. 16.]\n",
      " [16. 16. 16. 16.]\n",
      " [16. 16. 16. 16.]]\n"
     ]
    }
   ],
   "source": [
    "Z = np.ones((16,16))\n",
    "print(Z)\n",
    "k = 4\n",
    "S = np.add.reduceat(np.add.reduceat(Z, np.arange(0, Z.shape[0], k), axis=0),\n",
    "                                       np.arange(0, Z.shape[1], 4), axis=1)\n",
    "print(S)"
   ]
  },
  {
   "cell_type": "markdown",
   "metadata": {
    "id": "Re0h-V2j-_I2"
   },
   "source": [
    "#### 88. How to implement the Game of Life using numpy arrays? (★★★)"
   ]
  },
  {
   "cell_type": "code",
   "execution_count": 83,
   "metadata": {
    "id": "KJ38AH_A-_I3"
   },
   "outputs": [
    {
     "name": "stdout",
     "output_type": "stream",
     "text": [
      "[[0 0 0 ... 0 0 0]\n",
      " [0 0 0 ... 0 0 0]\n",
      " [0 0 0 ... 0 0 0]\n",
      " ...\n",
      " [0 0 0 ... 0 0 0]\n",
      " [0 0 0 ... 0 0 0]\n",
      " [0 0 0 ... 0 0 0]]\n"
     ]
    }
   ],
   "source": [
    "def iterate(Z):\n",
    "    # Count neighbours\n",
    "    N = (Z[0:-2,0:-2] + Z[0:-2,1:-1] + Z[0:-2,2:] +\n",
    "         Z[1:-1,0:-2]                + Z[1:-1,2:] +\n",
    "         Z[2:  ,0:-2] + Z[2:  ,1:-1] + Z[2:  ,2:])\n",
    "\n",
    "    # Apply rules\n",
    "    birth = (N==3) & (Z[1:-1,1:-1]==0)\n",
    "    survive = ((N==2) | (N==3)) & (Z[1:-1,1:-1]==1)\n",
    "    Z[...] = 0\n",
    "    Z[1:-1,1:-1][birth | survive] = 1\n",
    "    return Z\n",
    "\n",
    "Z = np.random.randint(0,2,(50,50))\n",
    "for i in range(100): Z = iterate(Z)\n",
    "print(Z)\n"
   ]
  },
  {
   "cell_type": "markdown",
   "metadata": {
    "id": "6hwf_ywF-_I3"
   },
   "source": [
    "#### 89. How to get the n largest values of an array (★★★) \n",
    "(**hint**: np.argsort | np.argpartition)"
   ]
  },
  {
   "cell_type": "code",
   "execution_count": 86,
   "metadata": {
    "id": "BXtIf7tp-_I3"
   },
   "outputs": [
    {
     "name": "stdout",
     "output_type": "stream",
     "text": [
      "[3812 2996 8621 ... 9849 4799 4608]\n",
      "[9995 9996 9997 9998 9999]\n",
      "[9997 9999 9998 9996 9995]\n"
     ]
    }
   ],
   "source": [
    "Z = np.arange(10000)\n",
    "np.random.shuffle(Z)\n",
    "n = 5\n",
    "print(Z)\n",
    "# Slow\n",
    "print (Z[np.argsort(Z)[-n:]])\n",
    "\n",
    "# Fast\n",
    "print (Z[np.argpartition(-Z,n)[:n]])"
   ]
  },
  {
   "cell_type": "markdown",
   "metadata": {
    "id": "4AsRF0cK-_I4"
   },
   "source": [
    "#### 90. Given an arbitrary number of vectors, build the cartesian product (every combinations of every item) (★★★) \n",
    "(**hint**: np.indices)"
   ]
  },
  {
   "cell_type": "code",
   "execution_count": 87,
   "metadata": {
    "id": "j-kV5r7s-_I4",
    "scrolled": true
   },
   "outputs": [
    {
     "name": "stdout",
     "output_type": "stream",
     "text": [
      "[[1 4 6]\n",
      " [1 4 7]\n",
      " [1 5 6]\n",
      " [1 5 7]\n",
      " [2 4 6]\n",
      " [2 4 7]\n",
      " [2 5 6]\n",
      " [2 5 7]\n",
      " [3 4 6]\n",
      " [3 4 7]\n",
      " [3 5 6]\n",
      " [3 5 7]]\n"
     ]
    }
   ],
   "source": [
    "def cartesian(arrays):\n",
    "    arrays = [np.asarray(a) for a in arrays]\n",
    "    shape = (len(x) for x in arrays)\n",
    "\n",
    "    ix = np.indices(shape, dtype=int)\n",
    "    ix = ix.reshape(len(arrays), -1).T\n",
    "\n",
    "    for n, arr in enumerate(arrays):\n",
    "        ix[:, n] = arrays[n][ix[:, n]]\n",
    "\n",
    "    return ix\n",
    "\n",
    "print (cartesian(([1, 2, 3], [4, 5], [6, 7])))"
   ]
  },
  {
   "cell_type": "markdown",
   "metadata": {
    "id": "_cUUQ55g-_I4"
   },
   "source": [
    "#### 91. How to create a record array from a regular array? (★★★) \n",
    "(**hint**: np.core.records.fromarrays)"
   ]
  },
  {
   "cell_type": "code",
   "execution_count": 112,
   "metadata": {
    "id": "GMkxns6e-_I5"
   },
   "outputs": [
    {
     "name": "stdout",
     "output_type": "stream",
     "text": [
      "[['Hello' '2.5' '3']\n",
      " ['World' '3.6' '2']]\n",
      "[(b'Hello', 2.5, 3) (b'World', 3.6, 2)]\n"
     ]
    }
   ],
   "source": [
    "Z = np.array([(\"Hello\", 2.5, 3),\n",
    "              (\"World\", 3.6, 2)])\n",
    "print(Z)\n",
    "R = np.core.records.fromarrays(Z.T, \n",
    "                               names='col1, col2, col3', # Names \n",
    "                               formats = 'S8, f8, i8') # String,float,integer\n",
    "print(R)"
   ]
  },
  {
   "cell_type": "markdown",
   "metadata": {
    "id": "NHVUngaN-_I5"
   },
   "source": [
    "#### 92. Consider a large vector Z, compute Z to the power of 3 using 3 different methods (★★★) \n",
    "(**hint**: np.power, \\*, np.einsum)"
   ]
  },
  {
   "cell_type": "code",
   "execution_count": 91,
   "metadata": {},
   "outputs": [
    {
     "name": "stdout",
     "output_type": "stream",
     "text": [
      "2.86 µs ± 444 ns per loop (mean ± std. dev. of 7 runs, 100000 loops each)\n",
      "325 ns ± 46.9 ns per loop (mean ± std. dev. of 7 runs, 1000000 loops each)\n"
     ]
    },
    {
     "ename": "ValueError",
     "evalue": "einstein sum subscripts string contains too many subscripts for operand 0",
     "output_type": "error",
     "traceback": [
      "\u001b[1;31m---------------------------------------------------------------------------\u001b[0m",
      "\u001b[1;31mValueError\u001b[0m                                Traceback (most recent call last)",
      "\u001b[1;32m~\\AppData\\Local\\Temp\\ipykernel_12132\\2368568155.py\u001b[0m in \u001b[0;36m<module>\u001b[1;34m\u001b[0m\n\u001b[0;32m      3\u001b[0m \u001b[0mget_ipython\u001b[0m\u001b[1;33m(\u001b[0m\u001b[1;33m)\u001b[0m\u001b[1;33m.\u001b[0m\u001b[0mrun_line_magic\u001b[0m\u001b[1;33m(\u001b[0m\u001b[1;34m'timeit'\u001b[0m\u001b[1;33m,\u001b[0m \u001b[1;34m'np.power(Z,3)'\u001b[0m\u001b[1;33m)\u001b[0m\u001b[1;33m\u001b[0m\u001b[1;33m\u001b[0m\u001b[0m\n\u001b[0;32m      4\u001b[0m \u001b[0mget_ipython\u001b[0m\u001b[1;33m(\u001b[0m\u001b[1;33m)\u001b[0m\u001b[1;33m.\u001b[0m\u001b[0mrun_line_magic\u001b[0m\u001b[1;33m(\u001b[0m\u001b[1;34m'timeit'\u001b[0m\u001b[1;33m,\u001b[0m \u001b[1;34m'Z*Z*Z'\u001b[0m\u001b[1;33m)\u001b[0m\u001b[1;33m\u001b[0m\u001b[1;33m\u001b[0m\u001b[0m\n\u001b[1;32m----> 5\u001b[1;33m \u001b[0mget_ipython\u001b[0m\u001b[1;33m(\u001b[0m\u001b[1;33m)\u001b[0m\u001b[1;33m.\u001b[0m\u001b[0mrun_line_magic\u001b[0m\u001b[1;33m(\u001b[0m\u001b[1;34m'timeit'\u001b[0m\u001b[1;33m,\u001b[0m \u001b[1;34m\"np.einsum('i,i,i->i',Z,Z,Z)\"\u001b[0m\u001b[1;33m)\u001b[0m\u001b[1;33m\u001b[0m\u001b[1;33m\u001b[0m\u001b[0m\n\u001b[0m",
      "\u001b[1;32m~\\anaconda3\\lib\\site-packages\\IPython\\core\\interactiveshell.py\u001b[0m in \u001b[0;36mrun_line_magic\u001b[1;34m(self, magic_name, line, _stack_depth)\u001b[0m\n\u001b[0;32m   2362\u001b[0m                 \u001b[0mkwargs\u001b[0m\u001b[1;33m[\u001b[0m\u001b[1;34m'local_ns'\u001b[0m\u001b[1;33m]\u001b[0m \u001b[1;33m=\u001b[0m \u001b[0mself\u001b[0m\u001b[1;33m.\u001b[0m\u001b[0mget_local_scope\u001b[0m\u001b[1;33m(\u001b[0m\u001b[0mstack_depth\u001b[0m\u001b[1;33m)\u001b[0m\u001b[1;33m\u001b[0m\u001b[1;33m\u001b[0m\u001b[0m\n\u001b[0;32m   2363\u001b[0m             \u001b[1;32mwith\u001b[0m \u001b[0mself\u001b[0m\u001b[1;33m.\u001b[0m\u001b[0mbuiltin_trap\u001b[0m\u001b[1;33m:\u001b[0m\u001b[1;33m\u001b[0m\u001b[1;33m\u001b[0m\u001b[0m\n\u001b[1;32m-> 2364\u001b[1;33m                 \u001b[0mresult\u001b[0m \u001b[1;33m=\u001b[0m \u001b[0mfn\u001b[0m\u001b[1;33m(\u001b[0m\u001b[1;33m*\u001b[0m\u001b[0margs\u001b[0m\u001b[1;33m,\u001b[0m \u001b[1;33m**\u001b[0m\u001b[0mkwargs\u001b[0m\u001b[1;33m)\u001b[0m\u001b[1;33m\u001b[0m\u001b[1;33m\u001b[0m\u001b[0m\n\u001b[0m\u001b[0;32m   2365\u001b[0m             \u001b[1;32mreturn\u001b[0m \u001b[0mresult\u001b[0m\u001b[1;33m\u001b[0m\u001b[1;33m\u001b[0m\u001b[0m\n\u001b[0;32m   2366\u001b[0m \u001b[1;33m\u001b[0m\u001b[0m\n",
      "\u001b[1;32m~\\anaconda3\\lib\\site-packages\\decorator.py\u001b[0m in \u001b[0;36mfun\u001b[1;34m(*args, **kw)\u001b[0m\n\u001b[0;32m    230\u001b[0m             \u001b[1;32mif\u001b[0m \u001b[1;32mnot\u001b[0m \u001b[0mkwsyntax\u001b[0m\u001b[1;33m:\u001b[0m\u001b[1;33m\u001b[0m\u001b[1;33m\u001b[0m\u001b[0m\n\u001b[0;32m    231\u001b[0m                 \u001b[0margs\u001b[0m\u001b[1;33m,\u001b[0m \u001b[0mkw\u001b[0m \u001b[1;33m=\u001b[0m \u001b[0mfix\u001b[0m\u001b[1;33m(\u001b[0m\u001b[0margs\u001b[0m\u001b[1;33m,\u001b[0m \u001b[0mkw\u001b[0m\u001b[1;33m,\u001b[0m \u001b[0msig\u001b[0m\u001b[1;33m)\u001b[0m\u001b[1;33m\u001b[0m\u001b[1;33m\u001b[0m\u001b[0m\n\u001b[1;32m--> 232\u001b[1;33m             \u001b[1;32mreturn\u001b[0m \u001b[0mcaller\u001b[0m\u001b[1;33m(\u001b[0m\u001b[0mfunc\u001b[0m\u001b[1;33m,\u001b[0m \u001b[1;33m*\u001b[0m\u001b[1;33m(\u001b[0m\u001b[0mextras\u001b[0m \u001b[1;33m+\u001b[0m \u001b[0margs\u001b[0m\u001b[1;33m)\u001b[0m\u001b[1;33m,\u001b[0m \u001b[1;33m**\u001b[0m\u001b[0mkw\u001b[0m\u001b[1;33m)\u001b[0m\u001b[1;33m\u001b[0m\u001b[1;33m\u001b[0m\u001b[0m\n\u001b[0m\u001b[0;32m    233\u001b[0m     \u001b[0mfun\u001b[0m\u001b[1;33m.\u001b[0m\u001b[0m__name__\u001b[0m \u001b[1;33m=\u001b[0m \u001b[0mfunc\u001b[0m\u001b[1;33m.\u001b[0m\u001b[0m__name__\u001b[0m\u001b[1;33m\u001b[0m\u001b[1;33m\u001b[0m\u001b[0m\n\u001b[0;32m    234\u001b[0m     \u001b[0mfun\u001b[0m\u001b[1;33m.\u001b[0m\u001b[0m__doc__\u001b[0m \u001b[1;33m=\u001b[0m \u001b[0mfunc\u001b[0m\u001b[1;33m.\u001b[0m\u001b[0m__doc__\u001b[0m\u001b[1;33m\u001b[0m\u001b[1;33m\u001b[0m\u001b[0m\n",
      "\u001b[1;32m~\\anaconda3\\lib\\site-packages\\IPython\\core\\magic.py\u001b[0m in \u001b[0;36m<lambda>\u001b[1;34m(f, *a, **k)\u001b[0m\n\u001b[0;32m    185\u001b[0m     \u001b[1;31m# but it's overkill for just that one bit of state.\u001b[0m\u001b[1;33m\u001b[0m\u001b[1;33m\u001b[0m\u001b[0m\n\u001b[0;32m    186\u001b[0m     \u001b[1;32mdef\u001b[0m \u001b[0mmagic_deco\u001b[0m\u001b[1;33m(\u001b[0m\u001b[0marg\u001b[0m\u001b[1;33m)\u001b[0m\u001b[1;33m:\u001b[0m\u001b[1;33m\u001b[0m\u001b[1;33m\u001b[0m\u001b[0m\n\u001b[1;32m--> 187\u001b[1;33m         \u001b[0mcall\u001b[0m \u001b[1;33m=\u001b[0m \u001b[1;32mlambda\u001b[0m \u001b[0mf\u001b[0m\u001b[1;33m,\u001b[0m \u001b[1;33m*\u001b[0m\u001b[0ma\u001b[0m\u001b[1;33m,\u001b[0m \u001b[1;33m**\u001b[0m\u001b[0mk\u001b[0m\u001b[1;33m:\u001b[0m \u001b[0mf\u001b[0m\u001b[1;33m(\u001b[0m\u001b[1;33m*\u001b[0m\u001b[0ma\u001b[0m\u001b[1;33m,\u001b[0m \u001b[1;33m**\u001b[0m\u001b[0mk\u001b[0m\u001b[1;33m)\u001b[0m\u001b[1;33m\u001b[0m\u001b[1;33m\u001b[0m\u001b[0m\n\u001b[0m\u001b[0;32m    188\u001b[0m \u001b[1;33m\u001b[0m\u001b[0m\n\u001b[0;32m    189\u001b[0m         \u001b[1;32mif\u001b[0m \u001b[0mcallable\u001b[0m\u001b[1;33m(\u001b[0m\u001b[0marg\u001b[0m\u001b[1;33m)\u001b[0m\u001b[1;33m:\u001b[0m\u001b[1;33m\u001b[0m\u001b[1;33m\u001b[0m\u001b[0m\n",
      "\u001b[1;32m~\\anaconda3\\lib\\site-packages\\IPython\\core\\magics\\execution.py\u001b[0m in \u001b[0;36mtimeit\u001b[1;34m(self, line, cell, local_ns)\u001b[0m\n\u001b[0;32m   1178\u001b[0m             \u001b[1;32mfor\u001b[0m \u001b[0mindex\u001b[0m \u001b[1;32min\u001b[0m \u001b[0mrange\u001b[0m\u001b[1;33m(\u001b[0m\u001b[1;36m0\u001b[0m\u001b[1;33m,\u001b[0m \u001b[1;36m10\u001b[0m\u001b[1;33m)\u001b[0m\u001b[1;33m:\u001b[0m\u001b[1;33m\u001b[0m\u001b[1;33m\u001b[0m\u001b[0m\n\u001b[0;32m   1179\u001b[0m                 \u001b[0mnumber\u001b[0m \u001b[1;33m=\u001b[0m \u001b[1;36m10\u001b[0m \u001b[1;33m**\u001b[0m \u001b[0mindex\u001b[0m\u001b[1;33m\u001b[0m\u001b[1;33m\u001b[0m\u001b[0m\n\u001b[1;32m-> 1180\u001b[1;33m                 \u001b[0mtime_number\u001b[0m \u001b[1;33m=\u001b[0m \u001b[0mtimer\u001b[0m\u001b[1;33m.\u001b[0m\u001b[0mtimeit\u001b[0m\u001b[1;33m(\u001b[0m\u001b[0mnumber\u001b[0m\u001b[1;33m)\u001b[0m\u001b[1;33m\u001b[0m\u001b[1;33m\u001b[0m\u001b[0m\n\u001b[0m\u001b[0;32m   1181\u001b[0m                 \u001b[1;32mif\u001b[0m \u001b[0mtime_number\u001b[0m \u001b[1;33m>=\u001b[0m \u001b[1;36m0.2\u001b[0m\u001b[1;33m:\u001b[0m\u001b[1;33m\u001b[0m\u001b[1;33m\u001b[0m\u001b[0m\n\u001b[0;32m   1182\u001b[0m                     \u001b[1;32mbreak\u001b[0m\u001b[1;33m\u001b[0m\u001b[1;33m\u001b[0m\u001b[0m\n",
      "\u001b[1;32m~\\anaconda3\\lib\\site-packages\\IPython\\core\\magics\\execution.py\u001b[0m in \u001b[0;36mtimeit\u001b[1;34m(self, number)\u001b[0m\n\u001b[0;32m    167\u001b[0m         \u001b[0mgc\u001b[0m\u001b[1;33m.\u001b[0m\u001b[0mdisable\u001b[0m\u001b[1;33m(\u001b[0m\u001b[1;33m)\u001b[0m\u001b[1;33m\u001b[0m\u001b[1;33m\u001b[0m\u001b[0m\n\u001b[0;32m    168\u001b[0m         \u001b[1;32mtry\u001b[0m\u001b[1;33m:\u001b[0m\u001b[1;33m\u001b[0m\u001b[1;33m\u001b[0m\u001b[0m\n\u001b[1;32m--> 169\u001b[1;33m             \u001b[0mtiming\u001b[0m \u001b[1;33m=\u001b[0m \u001b[0mself\u001b[0m\u001b[1;33m.\u001b[0m\u001b[0minner\u001b[0m\u001b[1;33m(\u001b[0m\u001b[0mit\u001b[0m\u001b[1;33m,\u001b[0m \u001b[0mself\u001b[0m\u001b[1;33m.\u001b[0m\u001b[0mtimer\u001b[0m\u001b[1;33m)\u001b[0m\u001b[1;33m\u001b[0m\u001b[1;33m\u001b[0m\u001b[0m\n\u001b[0m\u001b[0;32m    170\u001b[0m         \u001b[1;32mfinally\u001b[0m\u001b[1;33m:\u001b[0m\u001b[1;33m\u001b[0m\u001b[1;33m\u001b[0m\u001b[0m\n\u001b[0;32m    171\u001b[0m             \u001b[1;32mif\u001b[0m \u001b[0mgcold\u001b[0m\u001b[1;33m:\u001b[0m\u001b[1;33m\u001b[0m\u001b[1;33m\u001b[0m\u001b[0m\n",
      "\u001b[1;32m<magic-timeit>\u001b[0m in \u001b[0;36minner\u001b[1;34m(_it, _timer)\u001b[0m\n",
      "\u001b[1;32m<__array_function__ internals>\u001b[0m in \u001b[0;36meinsum\u001b[1;34m(*args, **kwargs)\u001b[0m\n",
      "\u001b[1;32m~\\anaconda3\\lib\\site-packages\\numpy\\core\\einsumfunc.py\u001b[0m in \u001b[0;36meinsum\u001b[1;34m(out, optimize, *operands, **kwargs)\u001b[0m\n\u001b[0;32m   1357\u001b[0m         \u001b[1;32mif\u001b[0m \u001b[0mspecified_out\u001b[0m\u001b[1;33m:\u001b[0m\u001b[1;33m\u001b[0m\u001b[1;33m\u001b[0m\u001b[0m\n\u001b[0;32m   1358\u001b[0m             \u001b[0mkwargs\u001b[0m\u001b[1;33m[\u001b[0m\u001b[1;34m'out'\u001b[0m\u001b[1;33m]\u001b[0m \u001b[1;33m=\u001b[0m \u001b[0mout\u001b[0m\u001b[1;33m\u001b[0m\u001b[1;33m\u001b[0m\u001b[0m\n\u001b[1;32m-> 1359\u001b[1;33m         \u001b[1;32mreturn\u001b[0m \u001b[0mc_einsum\u001b[0m\u001b[1;33m(\u001b[0m\u001b[1;33m*\u001b[0m\u001b[0moperands\u001b[0m\u001b[1;33m,\u001b[0m \u001b[1;33m**\u001b[0m\u001b[0mkwargs\u001b[0m\u001b[1;33m)\u001b[0m\u001b[1;33m\u001b[0m\u001b[1;33m\u001b[0m\u001b[0m\n\u001b[0m\u001b[0;32m   1360\u001b[0m \u001b[1;33m\u001b[0m\u001b[0m\n\u001b[0;32m   1361\u001b[0m     \u001b[1;31m# Check the kwargs to avoid a more cryptic error later, without having to\u001b[0m\u001b[1;33m\u001b[0m\u001b[1;33m\u001b[0m\u001b[0m\n",
      "\u001b[1;31mValueError\u001b[0m: einstein sum subscripts string contains too many subscripts for operand 0"
     ]
    }
   ],
   "source": [
    "Z = np.random.randint(5e7)\n",
    "\n",
    "%timeit np.power(Z,3)\n",
    "%timeit Z*Z*Z\n",
    "%timeit np.einsum('i,i,i->i',Z,Z,Z)"
   ]
  },
  {
   "cell_type": "markdown",
   "metadata": {
    "id": "usUDXcrh-_I5"
   },
   "source": [
    "#### 93. Consider two arrays A and B of shape (8,3) and (2,2). How to find rows of A that contain elements of each row of B regardless of the order of the elements in B? (★★★) \n",
    "(**hint**: np.where)"
   ]
  },
  {
   "cell_type": "code",
   "execution_count": 111,
   "metadata": {
    "id": "kpK2Jq_r-_I6"
   },
   "outputs": [
    {
     "name": "stdout",
     "output_type": "stream",
     "text": [
      "[2 5 6 7]\n"
     ]
    }
   ],
   "source": [
    "A = np.random.randint(0,5,(8,3))\n",
    "B = np.random.randint(0,5,(2,2))\n",
    "\n",
    "C = (A[..., np.newaxis, np.newaxis] == B)\n",
    "rows = np.where(C.any((3,1)).all(1))[0] \n",
    "print(rows)\n"
   ]
  },
  {
   "cell_type": "markdown",
   "metadata": {
    "id": "yqLcQho--_I6"
   },
   "source": [
    "#### 94. Considering a 10x3 matrix, extract rows with unequal values (e.g. \\[2,2,3\\]) (★★★)"
   ]
  },
  {
   "cell_type": "code",
   "execution_count": 108,
   "metadata": {
    "id": "GyPu2sBl-_I6"
   },
   "outputs": [
    {
     "name": "stdout",
     "output_type": "stream",
     "text": [
      "[[4 0 0]\n",
      " [0 1 0]\n",
      " [4 4 1]\n",
      " [2 3 2]\n",
      " [2 4 0]\n",
      " [3 2 1]\n",
      " [2 4 3]\n",
      " [1 0 3]\n",
      " [2 4 2]\n",
      " [3 4 1]]\n",
      "\n",
      "[[4 0 0]\n",
      " [0 1 0]\n",
      " [4 4 1]\n",
      " [2 3 2]\n",
      " [2 4 0]\n",
      " [3 2 1]\n",
      " [2 4 3]\n",
      " [1 0 3]\n",
      " [2 4 2]\n",
      " [3 4 1]]\n",
      "\n",
      "[[4 0 0]\n",
      " [0 1 0]\n",
      " [4 4 1]\n",
      " [2 3 2]\n",
      " [2 4 0]\n",
      " [3 2 1]\n",
      " [2 4 3]\n",
      " [1 0 3]\n",
      " [2 4 2]\n",
      " [3 4 1]]\n"
     ]
    }
   ],
   "source": [
    "Z = np.random.randint(0,5,(10,3))\n",
    "print(Z)\n",
    "# solution for arrays of all dtypes (including string arrays and record arrays)\n",
    "E = np.all(Z[:,1:] == Z[:,:-1], axis=1) # Checing for equality\n",
    "print()\n",
    "U = Z[~E]\n",
    "print(U)\n",
    "# soluiton for numerical arrays only, will work for any number of columns in Z\n",
    "U = Z[Z.max(axis=1) != Z.min(axis=1),:]\n",
    "print()\n",
    "print(U)\n"
   ]
  },
  {
   "cell_type": "markdown",
   "metadata": {
    "id": "pgY2l0je-_I7"
   },
   "source": [
    "#### 95. Convert a vector of ints into a matrix binary representation (★★★) \n",
    "(**hint**: np.unpackbits)"
   ]
  },
  {
   "cell_type": "code",
   "execution_count": 95,
   "metadata": {
    "id": "1xNJhdQN-_I7"
   },
   "outputs": [
    {
     "name": "stdout",
     "output_type": "stream",
     "text": [
      "[[0 0 0 0 0 0 0 0]\n",
      " [0 0 0 0 0 0 0 1]\n",
      " [0 0 0 0 0 0 1 0]\n",
      " [0 0 0 0 0 0 1 1]\n",
      " [0 0 0 0 1 1 1 1]\n",
      " [0 0 0 1 0 0 0 0]\n",
      " [0 0 1 0 0 0 0 0]\n",
      " [0 1 0 0 0 0 0 0]\n",
      " [1 0 0 0 0 0 0 0]]\n"
     ]
    }
   ],
   "source": [
    "I = np.array([0, 1, 2, 3, 15, 16, 32, 64, 128], dtype=np.uint8)\n",
    "print(np.unpackbits(I[:, np.newaxis], axis=1))  # Converts the integer into binary with newaxis form"
   ]
  },
  {
   "cell_type": "markdown",
   "metadata": {
    "id": "LXyWnik4-_I7"
   },
   "source": [
    "#### 96. Given a two dimensional array, how to extract unique rows? (★★★) \n",
    "(**hint**: np.ascontiguousarray)"
   ]
  },
  {
   "cell_type": "code",
   "execution_count": 96,
   "metadata": {
    "id": "LfF9pfn3-_I8"
   },
   "outputs": [
    {
     "name": "stdout",
     "output_type": "stream",
     "text": [
      "[[0 0 0]\n",
      " [0 0 1]\n",
      " [0 1 0]\n",
      " [0 1 1]\n",
      " [1 1 1]]\n"
     ]
    }
   ],
   "source": [
    "Z = np.random.randint(0,2,(6,3))\n",
    "T = np.ascontiguousarray(Z).view(np.dtype((np.void, Z.dtype.itemsize * Z.shape[1])))\n",
    "_, idx = np.unique(T, return_index=True)\n",
    "uZ = Z[idx]\n",
    "print(uZ)"
   ]
  },
  {
   "cell_type": "markdown",
   "metadata": {
    "id": "h5UM9d7A-_I8"
   },
   "source": [
    "#### 97. Considering 2 vectors A & B, write the einsum equivalent of inner, outer, sum, and mul function (★★★) \n",
    "(**hint**: np.einsum)"
   ]
  },
  {
   "cell_type": "code",
   "execution_count": 97,
   "metadata": {
    "id": "vnxg5u1q-_I8"
   },
   "outputs": [
    {
     "name": "stdout",
     "output_type": "stream",
     "text": [
      "5.566454612325293\n",
      "[0.65031982 0.02284042 0.24730061 0.50474817 0.16335626 0.37832322\n",
      " 0.06652805 0.57102064 0.63518996 0.14163667]\n",
      "3.381263828342554\n",
      "[[0.65031982 0.08946756 0.70553458 0.50802674 0.27888749 0.44890953\n",
      "  0.38807104 0.75409856 0.5624385  0.38339635]\n",
      " [0.16602198 0.02284042 0.18011791 0.12969558 0.07119797 0.11460338\n",
      "  0.09907175 0.19251594 0.14358651 0.09787833]\n",
      " [0.227947   0.03135974 0.24730061 0.17807111 0.09775431 0.15734962\n",
      "  0.13602481 0.26432303 0.19714326 0.13438626]\n",
      " [0.64612296 0.08889017 0.70098139 0.50474817 0.27708768 0.44601247\n",
      "  0.38556661 0.74923196 0.55880879 0.38092209]\n",
      " [0.38091996 0.05240495 0.4132616  0.29757286 0.16335626 0.26294539\n",
      "  0.2273097  0.44170759 0.32944414 0.22457154]\n",
      " [0.54806386 0.07539972 0.59459668 0.42814487 0.23503536 0.37832322\n",
      "  0.32705094 0.63552449 0.47400096 0.3231113 ]\n",
      " [0.11148605 0.01533766 0.12095167 0.08709237 0.04781042 0.07695775\n",
      "  0.06652805 0.12927712 0.09642032 0.06572665]\n",
      " [0.492437   0.06774687 0.53424689 0.38468944 0.21117997 0.33992454\n",
      "  0.29385624 0.57102064 0.42589127 0.29031646]\n",
      " [0.73443873 0.10104019 0.79679553 0.57374004 0.31496161 0.50697601\n",
      "  0.43826805 0.85164127 0.63518996 0.4329887 ]\n",
      " [0.2402452  0.03305166 0.26064298 0.1876784  0.10302835 0.16583895\n",
      "  0.14336362 0.27858379 0.20777954 0.14163667]]\n"
     ]
    }
   ],
   "source": [
    "A = np.random.uniform(0,1,10)\n",
    "B = np.random.uniform(0,1,10)\n",
    "\n",
    "print(np.einsum('i->', A))      # np.sum(A)\n",
    "print(np.einsum('i,i->i', A, B)) # A * B\n",
    "print(np.einsum('i,i', A, B))    # np.inner(A, B)\n",
    "print(np.einsum('i,j->ij', A, B))   # np.outer(A, B)"
   ]
  },
  {
   "cell_type": "markdown",
   "metadata": {
    "id": "m6J9jjG8-_I8"
   },
   "source": [
    "#### 98. Considering a path described by two vectors (X,Y), how to sample it using equidistant samples (★★★)? \n",
    "(**hint**: np.cumsum, np.interp)"
   ]
  },
  {
   "cell_type": "code",
   "execution_count": 99,
   "metadata": {
    "id": "mKAdGQGe-_I9"
   },
   "outputs": [],
   "source": [
    "phi = np.arange(0, 10*np.pi, 0.1)\n",
    "a = 1\n",
    "x = a*phi*np.cos(phi)\n",
    "y = a*phi*np.sin(phi)\n",
    "\n",
    "dr = (np.diff(x)**2 + np.diff(y)**2)**.5 # segment lengths\n",
    "r = np.zeros_like(x)\n",
    "r[1:] = np.cumsum(dr)                # integrate path\n",
    "r_int = np.linspace(0, r.max(), 200) # regular spaced path\n",
    "x_int = np.interp(r_int, r, x)       # integrate path\n",
    "y_int = np.interp(r_int, r, y)"
   ]
  },
  {
   "cell_type": "markdown",
   "metadata": {
    "id": "A3B8WRUC-_I9"
   },
   "source": [
    "#### 99. Given an integer n and a 2D array X, select from X the rows which can be interpreted as draws from a multinomial distribution with n degrees, i.e., the rows which only contain integers and which sum to n. (★★★) \n",
    "(**hint**: np.logical\\_and.reduce, np.mod)"
   ]
  },
  {
   "cell_type": "code",
   "execution_count": 100,
   "metadata": {
    "id": "FwqMaEXF-_I9"
   },
   "outputs": [
    {
     "name": "stdout",
     "output_type": "stream",
     "text": [
      "[[2. 0. 1. 1.]]\n"
     ]
    }
   ],
   "source": [
    "X = np.asarray([[1.0, 0.0, 3.0, 8.0],\n",
    "                [2.0, 0.0, 1.0, 1.0],\n",
    "                [1.5, 2.5, 1.0, 0.0]])\n",
    "n = 4\n",
    "M = np.logical_and.reduce(np.mod(X, 1) == 0, axis=-1)\n",
    "M &= (X.sum(axis=-1) == n)\n",
    "print(X[M])"
   ]
  },
  {
   "cell_type": "markdown",
   "metadata": {
    "id": "4sHWX0xk-_I9"
   },
   "source": [
    "#### 100. Compute bootstrapped 95% confidence intervals for the mean of a 1D array X (i.e., resample the elements of an array with replacement N times, compute the mean of each sample, and then compute percentiles over the means). (★★★) \n",
    "(**hint**: np.percentile)"
   ]
  },
  {
   "cell_type": "code",
   "execution_count": 101,
   "metadata": {
    "id": "0EjMAtWp-_I-"
   },
   "outputs": [
    {
     "name": "stdout",
     "output_type": "stream",
     "text": [
      "[-0.24120873  0.16216292]\n"
     ]
    }
   ],
   "source": [
    "X = np.random.randn(100) # random 1D array\n",
    "N = 1000 # number of bootstrap samples\n",
    "idx = np.random.randint(0, X.size, (N, X.size))\n",
    "means = X[idx].mean(axis=1)\n",
    "confint = np.percentile(means, [2.5, 97.5])\n",
    "print(confint)"
   ]
  }
 ],
 "metadata": {
  "colab": {
   "provenance": []
  },
  "kernelspec": {
   "display_name": "Python 3 (ipykernel)",
   "language": "python",
   "name": "python3"
  },
  "language_info": {
   "codemirror_mode": {
    "name": "ipython",
    "version": 3
   },
   "file_extension": ".py",
   "mimetype": "text/x-python",
   "name": "python",
   "nbconvert_exporter": "python",
   "pygments_lexer": "ipython3",
   "version": "3.9.13"
  }
 },
 "nbformat": 4,
 "nbformat_minor": 1
}
